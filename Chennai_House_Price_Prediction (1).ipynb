{
  "nbformat": 4,
  "nbformat_minor": 0,
  "metadata": {
    "colab": {
      "provenance": [],
      "collapsed_sections": []
    },
    "kernelspec": {
      "name": "python3",
      "display_name": "Python 3"
    },
    "language_info": {
      "name": "python"
    }
  },
  "cells": [
    {
      "cell_type": "markdown",
      "source": [
        "**Importing Required Packages**"
      ],
      "metadata": {
        "id": "gkr0WRISGaB7"
      }
    },
    {
      "cell_type": "code",
      "execution_count": null,
      "metadata": {
        "id": "80Jm6uNV56IC"
      },
      "outputs": [],
      "source": [
        "import pandas as pd\n",
        "import numpy as np\n",
        "import seaborn as sns\n",
        "import warnings\n",
        "warnings.filterwarnings('ignore')\n",
        "import matplotlib.pyplot as plt\n",
        "%matplotlib inline\n",
        "from sklearn.linear_model import LinearRegression \n",
        "from sklearn.model_selection import train_test_split\n",
        "from sklearn.preprocessing import StandardScaler \n",
        "from sklearn import metrics \n",
        "from sklearn.neighbors import KNeighborsRegressor\n",
        "from sklearn.model_selection import cross_val_score\n",
        "from sklearn.metrics import r2_score\n",
        "from sklearn.tree import DecisionTreeRegressor\n",
        "from sklearn.ensemble import RandomForestRegressor\n",
        "import xgboost as xgb\n",
        "from xgboost import XGBRegressor"
      ]
    },
    {
      "cell_type": "markdown",
      "source": [
        "**Loading the Dataset**"
      ],
      "metadata": {
        "id": "KUqqgY9iGgCR"
      }
    },
    {
      "cell_type": "code",
      "source": [
        "df = pd.read_csv('/content/train-chennai-sale.csv')\n",
        "df.head()"
      ],
      "metadata": {
        "colab": {
          "base_uri": "https://localhost:8080/",
          "height": 386
        },
        "id": "iKvAFZUv6sTp",
        "outputId": "5ba632c2-e782-493c-ed79-53e7f6c631db"
      },
      "execution_count": null,
      "outputs": [
        {
          "output_type": "execute_result",
          "data": {
            "text/plain": [
              "   PRT_ID        AREA  INT_SQFT   DATE_SALE  DIST_MAINROAD  N_BEDROOM  \\\n",
              "0  P03210  Karapakkam      1004  04-05-2011            131        1.0   \n",
              "1  P09411  Anna Nagar      1986  19-12-2006             26        2.0   \n",
              "2  P01812       Adyar       909  04-02-2012             70        1.0   \n",
              "3  P05346   Velachery      1855  13-03-2010             14        3.0   \n",
              "4  P06210  Karapakkam      1226  05-10-2009             84        1.0   \n",
              "\n",
              "   N_BATHROOM  N_ROOM SALE_COND PARK_FACIL  ... UTILITY_AVAIL  STREET MZZONE  \\\n",
              "0         1.0       3  AbNormal        Yes  ...        AllPub   Paved      A   \n",
              "1         1.0       5  AbNormal         No  ...        AllPub  Gravel     RH   \n",
              "2         1.0       3  AbNormal        Yes  ...           ELO  Gravel     RL   \n",
              "3         2.0       5    Family         No  ...       NoSewr    Paved      I   \n",
              "4         1.0       3  AbNormal        Yes  ...        AllPub  Gravel      C   \n",
              "\n",
              "  QS_ROOMS QS_BATHROOM  QS_BEDROOM  QS_OVERALL  REG_FEE  COMMIS  SALES_PRICE  \n",
              "0      4.0         3.9         4.9       4.330   380000  144400      7600000  \n",
              "1      4.9         4.2         2.5       3.765   760122  304049     21717770  \n",
              "2      4.1         3.8         2.2       3.090   421094   92114     13159200  \n",
              "3      4.7         3.9         3.6       4.010   356321   77042      9630290  \n",
              "4      3.0         2.5         4.1       3.290   237000   74063      7406250  \n",
              "\n",
              "[5 rows x 22 columns]"
            ],
            "text/html": [
              "\n",
              "  <div id=\"df-bb8e1e49-aabc-49b6-92b7-50c281501cbc\">\n",
              "    <div class=\"colab-df-container\">\n",
              "      <div>\n",
              "<style scoped>\n",
              "    .dataframe tbody tr th:only-of-type {\n",
              "        vertical-align: middle;\n",
              "    }\n",
              "\n",
              "    .dataframe tbody tr th {\n",
              "        vertical-align: top;\n",
              "    }\n",
              "\n",
              "    .dataframe thead th {\n",
              "        text-align: right;\n",
              "    }\n",
              "</style>\n",
              "<table border=\"1\" class=\"dataframe\">\n",
              "  <thead>\n",
              "    <tr style=\"text-align: right;\">\n",
              "      <th></th>\n",
              "      <th>PRT_ID</th>\n",
              "      <th>AREA</th>\n",
              "      <th>INT_SQFT</th>\n",
              "      <th>DATE_SALE</th>\n",
              "      <th>DIST_MAINROAD</th>\n",
              "      <th>N_BEDROOM</th>\n",
              "      <th>N_BATHROOM</th>\n",
              "      <th>N_ROOM</th>\n",
              "      <th>SALE_COND</th>\n",
              "      <th>PARK_FACIL</th>\n",
              "      <th>...</th>\n",
              "      <th>UTILITY_AVAIL</th>\n",
              "      <th>STREET</th>\n",
              "      <th>MZZONE</th>\n",
              "      <th>QS_ROOMS</th>\n",
              "      <th>QS_BATHROOM</th>\n",
              "      <th>QS_BEDROOM</th>\n",
              "      <th>QS_OVERALL</th>\n",
              "      <th>REG_FEE</th>\n",
              "      <th>COMMIS</th>\n",
              "      <th>SALES_PRICE</th>\n",
              "    </tr>\n",
              "  </thead>\n",
              "  <tbody>\n",
              "    <tr>\n",
              "      <th>0</th>\n",
              "      <td>P03210</td>\n",
              "      <td>Karapakkam</td>\n",
              "      <td>1004</td>\n",
              "      <td>04-05-2011</td>\n",
              "      <td>131</td>\n",
              "      <td>1.0</td>\n",
              "      <td>1.0</td>\n",
              "      <td>3</td>\n",
              "      <td>AbNormal</td>\n",
              "      <td>Yes</td>\n",
              "      <td>...</td>\n",
              "      <td>AllPub</td>\n",
              "      <td>Paved</td>\n",
              "      <td>A</td>\n",
              "      <td>4.0</td>\n",
              "      <td>3.9</td>\n",
              "      <td>4.9</td>\n",
              "      <td>4.330</td>\n",
              "      <td>380000</td>\n",
              "      <td>144400</td>\n",
              "      <td>7600000</td>\n",
              "    </tr>\n",
              "    <tr>\n",
              "      <th>1</th>\n",
              "      <td>P09411</td>\n",
              "      <td>Anna Nagar</td>\n",
              "      <td>1986</td>\n",
              "      <td>19-12-2006</td>\n",
              "      <td>26</td>\n",
              "      <td>2.0</td>\n",
              "      <td>1.0</td>\n",
              "      <td>5</td>\n",
              "      <td>AbNormal</td>\n",
              "      <td>No</td>\n",
              "      <td>...</td>\n",
              "      <td>AllPub</td>\n",
              "      <td>Gravel</td>\n",
              "      <td>RH</td>\n",
              "      <td>4.9</td>\n",
              "      <td>4.2</td>\n",
              "      <td>2.5</td>\n",
              "      <td>3.765</td>\n",
              "      <td>760122</td>\n",
              "      <td>304049</td>\n",
              "      <td>21717770</td>\n",
              "    </tr>\n",
              "    <tr>\n",
              "      <th>2</th>\n",
              "      <td>P01812</td>\n",
              "      <td>Adyar</td>\n",
              "      <td>909</td>\n",
              "      <td>04-02-2012</td>\n",
              "      <td>70</td>\n",
              "      <td>1.0</td>\n",
              "      <td>1.0</td>\n",
              "      <td>3</td>\n",
              "      <td>AbNormal</td>\n",
              "      <td>Yes</td>\n",
              "      <td>...</td>\n",
              "      <td>ELO</td>\n",
              "      <td>Gravel</td>\n",
              "      <td>RL</td>\n",
              "      <td>4.1</td>\n",
              "      <td>3.8</td>\n",
              "      <td>2.2</td>\n",
              "      <td>3.090</td>\n",
              "      <td>421094</td>\n",
              "      <td>92114</td>\n",
              "      <td>13159200</td>\n",
              "    </tr>\n",
              "    <tr>\n",
              "      <th>3</th>\n",
              "      <td>P05346</td>\n",
              "      <td>Velachery</td>\n",
              "      <td>1855</td>\n",
              "      <td>13-03-2010</td>\n",
              "      <td>14</td>\n",
              "      <td>3.0</td>\n",
              "      <td>2.0</td>\n",
              "      <td>5</td>\n",
              "      <td>Family</td>\n",
              "      <td>No</td>\n",
              "      <td>...</td>\n",
              "      <td>NoSewr</td>\n",
              "      <td>Paved</td>\n",
              "      <td>I</td>\n",
              "      <td>4.7</td>\n",
              "      <td>3.9</td>\n",
              "      <td>3.6</td>\n",
              "      <td>4.010</td>\n",
              "      <td>356321</td>\n",
              "      <td>77042</td>\n",
              "      <td>9630290</td>\n",
              "    </tr>\n",
              "    <tr>\n",
              "      <th>4</th>\n",
              "      <td>P06210</td>\n",
              "      <td>Karapakkam</td>\n",
              "      <td>1226</td>\n",
              "      <td>05-10-2009</td>\n",
              "      <td>84</td>\n",
              "      <td>1.0</td>\n",
              "      <td>1.0</td>\n",
              "      <td>3</td>\n",
              "      <td>AbNormal</td>\n",
              "      <td>Yes</td>\n",
              "      <td>...</td>\n",
              "      <td>AllPub</td>\n",
              "      <td>Gravel</td>\n",
              "      <td>C</td>\n",
              "      <td>3.0</td>\n",
              "      <td>2.5</td>\n",
              "      <td>4.1</td>\n",
              "      <td>3.290</td>\n",
              "      <td>237000</td>\n",
              "      <td>74063</td>\n",
              "      <td>7406250</td>\n",
              "    </tr>\n",
              "  </tbody>\n",
              "</table>\n",
              "<p>5 rows × 22 columns</p>\n",
              "</div>\n",
              "      <button class=\"colab-df-convert\" onclick=\"convertToInteractive('df-bb8e1e49-aabc-49b6-92b7-50c281501cbc')\"\n",
              "              title=\"Convert this dataframe to an interactive table.\"\n",
              "              style=\"display:none;\">\n",
              "        \n",
              "  <svg xmlns=\"http://www.w3.org/2000/svg\" height=\"24px\"viewBox=\"0 0 24 24\"\n",
              "       width=\"24px\">\n",
              "    <path d=\"M0 0h24v24H0V0z\" fill=\"none\"/>\n",
              "    <path d=\"M18.56 5.44l.94 2.06.94-2.06 2.06-.94-2.06-.94-.94-2.06-.94 2.06-2.06.94zm-11 1L8.5 8.5l.94-2.06 2.06-.94-2.06-.94L8.5 2.5l-.94 2.06-2.06.94zm10 10l.94 2.06.94-2.06 2.06-.94-2.06-.94-.94-2.06-.94 2.06-2.06.94z\"/><path d=\"M17.41 7.96l-1.37-1.37c-.4-.4-.92-.59-1.43-.59-.52 0-1.04.2-1.43.59L10.3 9.45l-7.72 7.72c-.78.78-.78 2.05 0 2.83L4 21.41c.39.39.9.59 1.41.59.51 0 1.02-.2 1.41-.59l7.78-7.78 2.81-2.81c.8-.78.8-2.07 0-2.86zM5.41 20L4 18.59l7.72-7.72 1.47 1.35L5.41 20z\"/>\n",
              "  </svg>\n",
              "      </button>\n",
              "      \n",
              "  <style>\n",
              "    .colab-df-container {\n",
              "      display:flex;\n",
              "      flex-wrap:wrap;\n",
              "      gap: 12px;\n",
              "    }\n",
              "\n",
              "    .colab-df-convert {\n",
              "      background-color: #E8F0FE;\n",
              "      border: none;\n",
              "      border-radius: 50%;\n",
              "      cursor: pointer;\n",
              "      display: none;\n",
              "      fill: #1967D2;\n",
              "      height: 32px;\n",
              "      padding: 0 0 0 0;\n",
              "      width: 32px;\n",
              "    }\n",
              "\n",
              "    .colab-df-convert:hover {\n",
              "      background-color: #E2EBFA;\n",
              "      box-shadow: 0px 1px 2px rgba(60, 64, 67, 0.3), 0px 1px 3px 1px rgba(60, 64, 67, 0.15);\n",
              "      fill: #174EA6;\n",
              "    }\n",
              "\n",
              "    [theme=dark] .colab-df-convert {\n",
              "      background-color: #3B4455;\n",
              "      fill: #D2E3FC;\n",
              "    }\n",
              "\n",
              "    [theme=dark] .colab-df-convert:hover {\n",
              "      background-color: #434B5C;\n",
              "      box-shadow: 0px 1px 3px 1px rgba(0, 0, 0, 0.15);\n",
              "      filter: drop-shadow(0px 1px 2px rgba(0, 0, 0, 0.3));\n",
              "      fill: #FFFFFF;\n",
              "    }\n",
              "  </style>\n",
              "\n",
              "      <script>\n",
              "        const buttonEl =\n",
              "          document.querySelector('#df-bb8e1e49-aabc-49b6-92b7-50c281501cbc button.colab-df-convert');\n",
              "        buttonEl.style.display =\n",
              "          google.colab.kernel.accessAllowed ? 'block' : 'none';\n",
              "\n",
              "        async function convertToInteractive(key) {\n",
              "          const element = document.querySelector('#df-bb8e1e49-aabc-49b6-92b7-50c281501cbc');\n",
              "          const dataTable =\n",
              "            await google.colab.kernel.invokeFunction('convertToInteractive',\n",
              "                                                     [key], {});\n",
              "          if (!dataTable) return;\n",
              "\n",
              "          const docLinkHtml = 'Like what you see? Visit the ' +\n",
              "            '<a target=\"_blank\" href=https://colab.research.google.com/notebooks/data_table.ipynb>data table notebook</a>'\n",
              "            + ' to learn more about interactive tables.';\n",
              "          element.innerHTML = '';\n",
              "          dataTable['output_type'] = 'display_data';\n",
              "          await google.colab.output.renderOutput(dataTable, element);\n",
              "          const docLink = document.createElement('div');\n",
              "          docLink.innerHTML = docLinkHtml;\n",
              "          element.appendChild(docLink);\n",
              "        }\n",
              "      </script>\n",
              "    </div>\n",
              "  </div>\n",
              "  "
            ]
          },
          "metadata": {},
          "execution_count": 2
        }
      ]
    },
    {
      "cell_type": "markdown",
      "source": [
        "**Dropping Unwanted Columns**"
      ],
      "metadata": {
        "id": "c76weqAhGnDx"
      }
    },
    {
      "cell_type": "code",
      "source": [
        "df.drop(['PRT_ID', 'REG_FEE', 'COMMIS'],axis=1,inplace=True)"
      ],
      "metadata": {
        "id": "bp7H6nFL7yey"
      },
      "execution_count": null,
      "outputs": []
    },
    {
      "cell_type": "code",
      "source": [
        "df.head()"
      ],
      "metadata": {
        "colab": {
          "base_uri": "https://localhost:8080/",
          "height": 357
        },
        "id": "BJrsufsi8EoM",
        "outputId": "ce7c8d9a-8b56-4609-ca9a-03f48b7f47d9"
      },
      "execution_count": null,
      "outputs": [
        {
          "output_type": "execute_result",
          "data": {
            "text/plain": [
              "         AREA  INT_SQFT   DATE_SALE  DIST_MAINROAD  N_BEDROOM  N_BATHROOM  \\\n",
              "0  Karapakkam      1004  04-05-2011            131        1.0         1.0   \n",
              "1  Anna Nagar      1986  19-12-2006             26        2.0         1.0   \n",
              "2       Adyar       909  04-02-2012             70        1.0         1.0   \n",
              "3   Velachery      1855  13-03-2010             14        3.0         2.0   \n",
              "4  Karapakkam      1226  05-10-2009             84        1.0         1.0   \n",
              "\n",
              "   N_ROOM SALE_COND PARK_FACIL  DATE_BUILD   BUILDTYPE UTILITY_AVAIL  STREET  \\\n",
              "0       3  AbNormal        Yes  15-05-1967  Commercial        AllPub   Paved   \n",
              "1       5  AbNormal         No  22-12-1995  Commercial        AllPub  Gravel   \n",
              "2       3  AbNormal        Yes  09-02-1992  Commercial           ELO  Gravel   \n",
              "3       5    Family         No  18-03-1988      Others       NoSewr    Paved   \n",
              "4       3  AbNormal        Yes  13-10-1979      Others        AllPub  Gravel   \n",
              "\n",
              "  MZZONE  QS_ROOMS  QS_BATHROOM  QS_BEDROOM  QS_OVERALL  SALES_PRICE  \n",
              "0      A       4.0          3.9         4.9       4.330      7600000  \n",
              "1     RH       4.9          4.2         2.5       3.765     21717770  \n",
              "2     RL       4.1          3.8         2.2       3.090     13159200  \n",
              "3      I       4.7          3.9         3.6       4.010      9630290  \n",
              "4      C       3.0          2.5         4.1       3.290      7406250  "
            ],
            "text/html": [
              "\n",
              "  <div id=\"df-7280d6af-29f0-4211-a159-c378f0084d95\">\n",
              "    <div class=\"colab-df-container\">\n",
              "      <div>\n",
              "<style scoped>\n",
              "    .dataframe tbody tr th:only-of-type {\n",
              "        vertical-align: middle;\n",
              "    }\n",
              "\n",
              "    .dataframe tbody tr th {\n",
              "        vertical-align: top;\n",
              "    }\n",
              "\n",
              "    .dataframe thead th {\n",
              "        text-align: right;\n",
              "    }\n",
              "</style>\n",
              "<table border=\"1\" class=\"dataframe\">\n",
              "  <thead>\n",
              "    <tr style=\"text-align: right;\">\n",
              "      <th></th>\n",
              "      <th>AREA</th>\n",
              "      <th>INT_SQFT</th>\n",
              "      <th>DATE_SALE</th>\n",
              "      <th>DIST_MAINROAD</th>\n",
              "      <th>N_BEDROOM</th>\n",
              "      <th>N_BATHROOM</th>\n",
              "      <th>N_ROOM</th>\n",
              "      <th>SALE_COND</th>\n",
              "      <th>PARK_FACIL</th>\n",
              "      <th>DATE_BUILD</th>\n",
              "      <th>BUILDTYPE</th>\n",
              "      <th>UTILITY_AVAIL</th>\n",
              "      <th>STREET</th>\n",
              "      <th>MZZONE</th>\n",
              "      <th>QS_ROOMS</th>\n",
              "      <th>QS_BATHROOM</th>\n",
              "      <th>QS_BEDROOM</th>\n",
              "      <th>QS_OVERALL</th>\n",
              "      <th>SALES_PRICE</th>\n",
              "    </tr>\n",
              "  </thead>\n",
              "  <tbody>\n",
              "    <tr>\n",
              "      <th>0</th>\n",
              "      <td>Karapakkam</td>\n",
              "      <td>1004</td>\n",
              "      <td>04-05-2011</td>\n",
              "      <td>131</td>\n",
              "      <td>1.0</td>\n",
              "      <td>1.0</td>\n",
              "      <td>3</td>\n",
              "      <td>AbNormal</td>\n",
              "      <td>Yes</td>\n",
              "      <td>15-05-1967</td>\n",
              "      <td>Commercial</td>\n",
              "      <td>AllPub</td>\n",
              "      <td>Paved</td>\n",
              "      <td>A</td>\n",
              "      <td>4.0</td>\n",
              "      <td>3.9</td>\n",
              "      <td>4.9</td>\n",
              "      <td>4.330</td>\n",
              "      <td>7600000</td>\n",
              "    </tr>\n",
              "    <tr>\n",
              "      <th>1</th>\n",
              "      <td>Anna Nagar</td>\n",
              "      <td>1986</td>\n",
              "      <td>19-12-2006</td>\n",
              "      <td>26</td>\n",
              "      <td>2.0</td>\n",
              "      <td>1.0</td>\n",
              "      <td>5</td>\n",
              "      <td>AbNormal</td>\n",
              "      <td>No</td>\n",
              "      <td>22-12-1995</td>\n",
              "      <td>Commercial</td>\n",
              "      <td>AllPub</td>\n",
              "      <td>Gravel</td>\n",
              "      <td>RH</td>\n",
              "      <td>4.9</td>\n",
              "      <td>4.2</td>\n",
              "      <td>2.5</td>\n",
              "      <td>3.765</td>\n",
              "      <td>21717770</td>\n",
              "    </tr>\n",
              "    <tr>\n",
              "      <th>2</th>\n",
              "      <td>Adyar</td>\n",
              "      <td>909</td>\n",
              "      <td>04-02-2012</td>\n",
              "      <td>70</td>\n",
              "      <td>1.0</td>\n",
              "      <td>1.0</td>\n",
              "      <td>3</td>\n",
              "      <td>AbNormal</td>\n",
              "      <td>Yes</td>\n",
              "      <td>09-02-1992</td>\n",
              "      <td>Commercial</td>\n",
              "      <td>ELO</td>\n",
              "      <td>Gravel</td>\n",
              "      <td>RL</td>\n",
              "      <td>4.1</td>\n",
              "      <td>3.8</td>\n",
              "      <td>2.2</td>\n",
              "      <td>3.090</td>\n",
              "      <td>13159200</td>\n",
              "    </tr>\n",
              "    <tr>\n",
              "      <th>3</th>\n",
              "      <td>Velachery</td>\n",
              "      <td>1855</td>\n",
              "      <td>13-03-2010</td>\n",
              "      <td>14</td>\n",
              "      <td>3.0</td>\n",
              "      <td>2.0</td>\n",
              "      <td>5</td>\n",
              "      <td>Family</td>\n",
              "      <td>No</td>\n",
              "      <td>18-03-1988</td>\n",
              "      <td>Others</td>\n",
              "      <td>NoSewr</td>\n",
              "      <td>Paved</td>\n",
              "      <td>I</td>\n",
              "      <td>4.7</td>\n",
              "      <td>3.9</td>\n",
              "      <td>3.6</td>\n",
              "      <td>4.010</td>\n",
              "      <td>9630290</td>\n",
              "    </tr>\n",
              "    <tr>\n",
              "      <th>4</th>\n",
              "      <td>Karapakkam</td>\n",
              "      <td>1226</td>\n",
              "      <td>05-10-2009</td>\n",
              "      <td>84</td>\n",
              "      <td>1.0</td>\n",
              "      <td>1.0</td>\n",
              "      <td>3</td>\n",
              "      <td>AbNormal</td>\n",
              "      <td>Yes</td>\n",
              "      <td>13-10-1979</td>\n",
              "      <td>Others</td>\n",
              "      <td>AllPub</td>\n",
              "      <td>Gravel</td>\n",
              "      <td>C</td>\n",
              "      <td>3.0</td>\n",
              "      <td>2.5</td>\n",
              "      <td>4.1</td>\n",
              "      <td>3.290</td>\n",
              "      <td>7406250</td>\n",
              "    </tr>\n",
              "  </tbody>\n",
              "</table>\n",
              "</div>\n",
              "      <button class=\"colab-df-convert\" onclick=\"convertToInteractive('df-7280d6af-29f0-4211-a159-c378f0084d95')\"\n",
              "              title=\"Convert this dataframe to an interactive table.\"\n",
              "              style=\"display:none;\">\n",
              "        \n",
              "  <svg xmlns=\"http://www.w3.org/2000/svg\" height=\"24px\"viewBox=\"0 0 24 24\"\n",
              "       width=\"24px\">\n",
              "    <path d=\"M0 0h24v24H0V0z\" fill=\"none\"/>\n",
              "    <path d=\"M18.56 5.44l.94 2.06.94-2.06 2.06-.94-2.06-.94-.94-2.06-.94 2.06-2.06.94zm-11 1L8.5 8.5l.94-2.06 2.06-.94-2.06-.94L8.5 2.5l-.94 2.06-2.06.94zm10 10l.94 2.06.94-2.06 2.06-.94-2.06-.94-.94-2.06-.94 2.06-2.06.94z\"/><path d=\"M17.41 7.96l-1.37-1.37c-.4-.4-.92-.59-1.43-.59-.52 0-1.04.2-1.43.59L10.3 9.45l-7.72 7.72c-.78.78-.78 2.05 0 2.83L4 21.41c.39.39.9.59 1.41.59.51 0 1.02-.2 1.41-.59l7.78-7.78 2.81-2.81c.8-.78.8-2.07 0-2.86zM5.41 20L4 18.59l7.72-7.72 1.47 1.35L5.41 20z\"/>\n",
              "  </svg>\n",
              "      </button>\n",
              "      \n",
              "  <style>\n",
              "    .colab-df-container {\n",
              "      display:flex;\n",
              "      flex-wrap:wrap;\n",
              "      gap: 12px;\n",
              "    }\n",
              "\n",
              "    .colab-df-convert {\n",
              "      background-color: #E8F0FE;\n",
              "      border: none;\n",
              "      border-radius: 50%;\n",
              "      cursor: pointer;\n",
              "      display: none;\n",
              "      fill: #1967D2;\n",
              "      height: 32px;\n",
              "      padding: 0 0 0 0;\n",
              "      width: 32px;\n",
              "    }\n",
              "\n",
              "    .colab-df-convert:hover {\n",
              "      background-color: #E2EBFA;\n",
              "      box-shadow: 0px 1px 2px rgba(60, 64, 67, 0.3), 0px 1px 3px 1px rgba(60, 64, 67, 0.15);\n",
              "      fill: #174EA6;\n",
              "    }\n",
              "\n",
              "    [theme=dark] .colab-df-convert {\n",
              "      background-color: #3B4455;\n",
              "      fill: #D2E3FC;\n",
              "    }\n",
              "\n",
              "    [theme=dark] .colab-df-convert:hover {\n",
              "      background-color: #434B5C;\n",
              "      box-shadow: 0px 1px 3px 1px rgba(0, 0, 0, 0.15);\n",
              "      filter: drop-shadow(0px 1px 2px rgba(0, 0, 0, 0.3));\n",
              "      fill: #FFFFFF;\n",
              "    }\n",
              "  </style>\n",
              "\n",
              "      <script>\n",
              "        const buttonEl =\n",
              "          document.querySelector('#df-7280d6af-29f0-4211-a159-c378f0084d95 button.colab-df-convert');\n",
              "        buttonEl.style.display =\n",
              "          google.colab.kernel.accessAllowed ? 'block' : 'none';\n",
              "\n",
              "        async function convertToInteractive(key) {\n",
              "          const element = document.querySelector('#df-7280d6af-29f0-4211-a159-c378f0084d95');\n",
              "          const dataTable =\n",
              "            await google.colab.kernel.invokeFunction('convertToInteractive',\n",
              "                                                     [key], {});\n",
              "          if (!dataTable) return;\n",
              "\n",
              "          const docLinkHtml = 'Like what you see? Visit the ' +\n",
              "            '<a target=\"_blank\" href=https://colab.research.google.com/notebooks/data_table.ipynb>data table notebook</a>'\n",
              "            + ' to learn more about interactive tables.';\n",
              "          element.innerHTML = '';\n",
              "          dataTable['output_type'] = 'display_data';\n",
              "          await google.colab.output.renderOutput(dataTable, element);\n",
              "          const docLink = document.createElement('div');\n",
              "          docLink.innerHTML = docLinkHtml;\n",
              "          element.appendChild(docLink);\n",
              "        }\n",
              "      </script>\n",
              "    </div>\n",
              "  </div>\n",
              "  "
            ]
          },
          "metadata": {},
          "execution_count": 4
        }
      ]
    },
    {
      "cell_type": "code",
      "source": [
        "df.shape"
      ],
      "metadata": {
        "colab": {
          "base_uri": "https://localhost:8080/"
        },
        "id": "JeV-f-pV8sVx",
        "outputId": "97e9b349-ac96-4366-872a-25c9eef263aa"
      },
      "execution_count": null,
      "outputs": [
        {
          "output_type": "execute_result",
          "data": {
            "text/plain": [
              "(7109, 19)"
            ]
          },
          "metadata": {},
          "execution_count": 5
        }
      ]
    },
    {
      "cell_type": "markdown",
      "source": [
        "**Checking missing values**"
      ],
      "metadata": {
        "id": "SK27pyFpGt3Z"
      }
    },
    {
      "cell_type": "code",
      "source": [
        "df.isnull().sum()"
      ],
      "metadata": {
        "colab": {
          "base_uri": "https://localhost:8080/"
        },
        "id": "92yDR06A8Kmz",
        "outputId": "c15b1fb4-55b2-4444-8f7c-bb36bfddc101"
      },
      "execution_count": null,
      "outputs": [
        {
          "output_type": "execute_result",
          "data": {
            "text/plain": [
              "AREA              0\n",
              "INT_SQFT          0\n",
              "DATE_SALE         0\n",
              "DIST_MAINROAD     0\n",
              "N_BEDROOM         1\n",
              "N_BATHROOM        5\n",
              "N_ROOM            0\n",
              "SALE_COND         0\n",
              "PARK_FACIL        0\n",
              "DATE_BUILD        0\n",
              "BUILDTYPE         0\n",
              "UTILITY_AVAIL     0\n",
              "STREET            0\n",
              "MZZONE            0\n",
              "QS_ROOMS          0\n",
              "QS_BATHROOM       0\n",
              "QS_BEDROOM        0\n",
              "QS_OVERALL       48\n",
              "SALES_PRICE       0\n",
              "dtype: int64"
            ]
          },
          "metadata": {},
          "execution_count": 6
        }
      ]
    },
    {
      "cell_type": "markdown",
      "source": [
        "**Imputing the values**"
      ],
      "metadata": {
        "id": "nSrg__dkG1ch"
      }
    },
    {
      "cell_type": "code",
      "source": [
        "print(df['N_BEDROOM'].value_counts())"
      ],
      "metadata": {
        "colab": {
          "base_uri": "https://localhost:8080/"
        },
        "id": "V1O2nh7z8o-z",
        "outputId": "5e88fea8-84ca-457e-dd4e-f65c2c0980df"
      },
      "execution_count": null,
      "outputs": [
        {
          "output_type": "stream",
          "name": "stdout",
          "text": [
            "1.0    3795\n",
            "2.0    2352\n",
            "3.0     707\n",
            "4.0     254\n",
            "Name: N_BEDROOM, dtype: int64\n"
          ]
        }
      ]
    },
    {
      "cell_type": "code",
      "source": [
        "df['N_BEDROOM'].fillna(df['N_BEDROOM'].mode()[0], inplace = True)"
      ],
      "metadata": {
        "id": "_riyUd1BrPWZ"
      },
      "execution_count": null,
      "outputs": []
    },
    {
      "cell_type": "code",
      "source": [
        "df['N_BATHROOM'].value_counts()"
      ],
      "metadata": {
        "colab": {
          "base_uri": "https://localhost:8080/"
        },
        "id": "bPNaLUAk9k32",
        "outputId": "c9028034-60e4-4a82-de38-e78856107a76"
      },
      "execution_count": null,
      "outputs": [
        {
          "output_type": "execute_result",
          "data": {
            "text/plain": [
              "1.0    5589\n",
              "2.0    1515\n",
              "Name: N_BATHROOM, dtype: int64"
            ]
          },
          "metadata": {},
          "execution_count": 9
        }
      ]
    },
    {
      "cell_type": "code",
      "source": [
        "df['N_BATHROOM'].fillna(df['N_BATHROOM'].mode()[0], inplace = True)"
      ],
      "metadata": {
        "id": "SIQo1lCrrRuQ"
      },
      "execution_count": null,
      "outputs": []
    },
    {
      "cell_type": "code",
      "source": [
        "df['QS_OVERALL'].value_counts()"
      ],
      "metadata": {
        "colab": {
          "base_uri": "https://localhost:8080/"
        },
        "id": "bY7qKlYn91eU",
        "outputId": "35a3303b-43cf-42a9-fb64-5e10cf4896d1"
      },
      "execution_count": null,
      "outputs": [
        {
          "output_type": "execute_result",
          "data": {
            "text/plain": [
              "3.540    59\n",
              "3.260    57\n",
              "3.320    56\n",
              "3.560    55\n",
              "3.360    54\n",
              "         ..\n",
              "2.545     1\n",
              "2.110     1\n",
              "3.965     1\n",
              "4.345     1\n",
              "4.940     1\n",
              "Name: QS_OVERALL, Length: 479, dtype: int64"
            ]
          },
          "metadata": {},
          "execution_count": 11
        }
      ]
    },
    {
      "cell_type": "code",
      "source": [
        "df[\"QS_OVERALL\"].fillna(df[\"QS_OVERALL\"].median(),inplace=True)"
      ],
      "metadata": {
        "id": "xgqnPwYh-UHR"
      },
      "execution_count": null,
      "outputs": []
    },
    {
      "cell_type": "code",
      "source": [
        "df.isnull().sum()"
      ],
      "metadata": {
        "colab": {
          "base_uri": "https://localhost:8080/"
        },
        "id": "OC2d0A0MAvQZ",
        "outputId": "4c3b878a-fe4b-4fdd-daa5-4eb2de7e3578"
      },
      "execution_count": null,
      "outputs": [
        {
          "output_type": "execute_result",
          "data": {
            "text/plain": [
              "AREA             0\n",
              "INT_SQFT         0\n",
              "DATE_SALE        0\n",
              "DIST_MAINROAD    0\n",
              "N_BEDROOM        0\n",
              "N_BATHROOM       0\n",
              "N_ROOM           0\n",
              "SALE_COND        0\n",
              "PARK_FACIL       0\n",
              "DATE_BUILD       0\n",
              "BUILDTYPE        0\n",
              "UTILITY_AVAIL    0\n",
              "STREET           0\n",
              "MZZONE           0\n",
              "QS_ROOMS         0\n",
              "QS_BATHROOM      0\n",
              "QS_BEDROOM       0\n",
              "QS_OVERALL       0\n",
              "SALES_PRICE      0\n",
              "dtype: int64"
            ]
          },
          "metadata": {},
          "execution_count": 13
        }
      ]
    },
    {
      "cell_type": "markdown",
      "source": [
        "There are no null values after imputation."
      ],
      "metadata": {
        "id": "0gWmSHy4HCGi"
      }
    },
    {
      "cell_type": "markdown",
      "source": [
        "**Dropping the Duplicates**"
      ],
      "metadata": {
        "id": "r4NJ8foyHGXq"
      }
    },
    {
      "cell_type": "code",
      "source": [
        "df = df.drop_duplicates()"
      ],
      "metadata": {
        "id": "kc85djLaAxoT"
      },
      "execution_count": null,
      "outputs": []
    },
    {
      "cell_type": "code",
      "source": [
        "df.columns"
      ],
      "metadata": {
        "colab": {
          "base_uri": "https://localhost:8080/"
        },
        "id": "q9EzUv3sCE00",
        "outputId": "2aa2f5a1-e78c-45a7-a172-17eacde94926"
      },
      "execution_count": null,
      "outputs": [
        {
          "output_type": "execute_result",
          "data": {
            "text/plain": [
              "Index(['AREA', 'INT_SQFT', 'DATE_SALE', 'DIST_MAINROAD', 'N_BEDROOM',\n",
              "       'N_BATHROOM', 'N_ROOM', 'SALE_COND', 'PARK_FACIL', 'DATE_BUILD',\n",
              "       'BUILDTYPE', 'UTILITY_AVAIL', 'STREET', 'MZZONE', 'QS_ROOMS',\n",
              "       'QS_BATHROOM', 'QS_BEDROOM', 'QS_OVERALL', 'SALES_PRICE'],\n",
              "      dtype='object')"
            ]
          },
          "metadata": {},
          "execution_count": 15
        }
      ]
    },
    {
      "cell_type": "markdown",
      "source": [
        "**Checking Datatypes**"
      ],
      "metadata": {
        "id": "3-3LqS99HTwo"
      }
    },
    {
      "cell_type": "code",
      "source": [
        "df.dtypes"
      ],
      "metadata": {
        "colab": {
          "base_uri": "https://localhost:8080/"
        },
        "id": "7lY4z93HfcEu",
        "outputId": "8a9b8004-9a43-4a92-e242-32d953d05b8c"
      },
      "execution_count": null,
      "outputs": [
        {
          "output_type": "execute_result",
          "data": {
            "text/plain": [
              "AREA              object\n",
              "INT_SQFT           int64\n",
              "DATE_SALE         object\n",
              "DIST_MAINROAD      int64\n",
              "N_BEDROOM        float64\n",
              "N_BATHROOM       float64\n",
              "N_ROOM             int64\n",
              "SALE_COND         object\n",
              "PARK_FACIL        object\n",
              "DATE_BUILD        object\n",
              "BUILDTYPE         object\n",
              "UTILITY_AVAIL     object\n",
              "STREET            object\n",
              "MZZONE            object\n",
              "QS_ROOMS         float64\n",
              "QS_BATHROOM      float64\n",
              "QS_BEDROOM       float64\n",
              "QS_OVERALL       float64\n",
              "SALES_PRICE        int64\n",
              "dtype: object"
            ]
          },
          "metadata": {},
          "execution_count": 16
        }
      ]
    },
    {
      "cell_type": "markdown",
      "source": [
        "**Changing to Proper Datatype**"
      ],
      "metadata": {
        "id": "iD_lbW2BHcvw"
      }
    },
    {
      "cell_type": "code",
      "source": [
        "df['DATE_SALE'] = pd.to_datetime(df['DATE_SALE'],format='%d-%m-%Y')\n",
        "df['DATE_BUILD'] = pd.to_datetime(df['DATE_BUILD'],format='%d-%m-%Y')\n",
        "df[\"N_BEDROOM\"]=df[\"N_BEDROOM\"].astype(int)\n",
        "df[\"N_BATHROOM\"]=df[\"N_BATHROOM\"].astype(int)"
      ],
      "metadata": {
        "id": "piRrI0ESOU_w"
      },
      "execution_count": null,
      "outputs": []
    },
    {
      "cell_type": "markdown",
      "source": [
        "**Creating Age of the building column based on the datesale and datebuild columns**"
      ],
      "metadata": {
        "id": "mCJOfA9mHoim"
      }
    },
    {
      "cell_type": "code",
      "source": [
        "df['AGE'] = pd.DatetimeIndex(df['DATE_SALE']).year - pd.DatetimeIndex(df['DATE_BUILD']).year"
      ],
      "metadata": {
        "id": "pr_kIKvmOoMK"
      },
      "execution_count": null,
      "outputs": []
    },
    {
      "cell_type": "code",
      "source": [
        "df.dtypes"
      ],
      "metadata": {
        "colab": {
          "base_uri": "https://localhost:8080/"
        },
        "id": "ZVvjPURiewpm",
        "outputId": "1738b139-575e-48d4-be0a-cef218aef562"
      },
      "execution_count": null,
      "outputs": [
        {
          "output_type": "execute_result",
          "data": {
            "text/plain": [
              "AREA                     object\n",
              "INT_SQFT                  int64\n",
              "DATE_SALE        datetime64[ns]\n",
              "DIST_MAINROAD             int64\n",
              "N_BEDROOM                 int64\n",
              "N_BATHROOM                int64\n",
              "N_ROOM                    int64\n",
              "SALE_COND                object\n",
              "PARK_FACIL               object\n",
              "DATE_BUILD       datetime64[ns]\n",
              "BUILDTYPE                object\n",
              "UTILITY_AVAIL            object\n",
              "STREET                   object\n",
              "MZZONE                   object\n",
              "QS_ROOMS                float64\n",
              "QS_BATHROOM             float64\n",
              "QS_BEDROOM              float64\n",
              "QS_OVERALL              float64\n",
              "SALES_PRICE               int64\n",
              "AGE                       int64\n",
              "dtype: object"
            ]
          },
          "metadata": {},
          "execution_count": 19
        }
      ]
    },
    {
      "cell_type": "markdown",
      "source": [
        "All Columns Changed to Proper Datatype."
      ],
      "metadata": {
        "id": "grfHZqgbH-5s"
      }
    },
    {
      "cell_type": "code",
      "source": [
        "df.head()"
      ],
      "metadata": {
        "colab": {
          "base_uri": "https://localhost:8080/",
          "height": 357
        },
        "id": "lpqFw7xAO3Xs",
        "outputId": "b7d9a441-b110-4e44-8815-4c8e7f2b21d8"
      },
      "execution_count": null,
      "outputs": [
        {
          "output_type": "execute_result",
          "data": {
            "text/plain": [
              "         AREA  INT_SQFT  DATE_SALE  DIST_MAINROAD  N_BEDROOM  N_BATHROOM  \\\n",
              "0  Karapakkam      1004 2011-05-04            131          1           1   \n",
              "1  Anna Nagar      1986 2006-12-19             26          2           1   \n",
              "2       Adyar       909 2012-02-04             70          1           1   \n",
              "3   Velachery      1855 2010-03-13             14          3           2   \n",
              "4  Karapakkam      1226 2009-10-05             84          1           1   \n",
              "\n",
              "   N_ROOM SALE_COND PARK_FACIL DATE_BUILD   BUILDTYPE UTILITY_AVAIL  STREET  \\\n",
              "0       3  AbNormal        Yes 1967-05-15  Commercial        AllPub   Paved   \n",
              "1       5  AbNormal         No 1995-12-22  Commercial        AllPub  Gravel   \n",
              "2       3  AbNormal        Yes 1992-02-09  Commercial           ELO  Gravel   \n",
              "3       5    Family         No 1988-03-18      Others       NoSewr    Paved   \n",
              "4       3  AbNormal        Yes 1979-10-13      Others        AllPub  Gravel   \n",
              "\n",
              "  MZZONE  QS_ROOMS  QS_BATHROOM  QS_BEDROOM  QS_OVERALL  SALES_PRICE  AGE  \n",
              "0      A       4.0          3.9         4.9       4.330      7600000   44  \n",
              "1     RH       4.9          4.2         2.5       3.765     21717770   11  \n",
              "2     RL       4.1          3.8         2.2       3.090     13159200   20  \n",
              "3      I       4.7          3.9         3.6       4.010      9630290   22  \n",
              "4      C       3.0          2.5         4.1       3.290      7406250   30  "
            ],
            "text/html": [
              "\n",
              "  <div id=\"df-a292d59c-3b54-4865-b094-557340482422\">\n",
              "    <div class=\"colab-df-container\">\n",
              "      <div>\n",
              "<style scoped>\n",
              "    .dataframe tbody tr th:only-of-type {\n",
              "        vertical-align: middle;\n",
              "    }\n",
              "\n",
              "    .dataframe tbody tr th {\n",
              "        vertical-align: top;\n",
              "    }\n",
              "\n",
              "    .dataframe thead th {\n",
              "        text-align: right;\n",
              "    }\n",
              "</style>\n",
              "<table border=\"1\" class=\"dataframe\">\n",
              "  <thead>\n",
              "    <tr style=\"text-align: right;\">\n",
              "      <th></th>\n",
              "      <th>AREA</th>\n",
              "      <th>INT_SQFT</th>\n",
              "      <th>DATE_SALE</th>\n",
              "      <th>DIST_MAINROAD</th>\n",
              "      <th>N_BEDROOM</th>\n",
              "      <th>N_BATHROOM</th>\n",
              "      <th>N_ROOM</th>\n",
              "      <th>SALE_COND</th>\n",
              "      <th>PARK_FACIL</th>\n",
              "      <th>DATE_BUILD</th>\n",
              "      <th>BUILDTYPE</th>\n",
              "      <th>UTILITY_AVAIL</th>\n",
              "      <th>STREET</th>\n",
              "      <th>MZZONE</th>\n",
              "      <th>QS_ROOMS</th>\n",
              "      <th>QS_BATHROOM</th>\n",
              "      <th>QS_BEDROOM</th>\n",
              "      <th>QS_OVERALL</th>\n",
              "      <th>SALES_PRICE</th>\n",
              "      <th>AGE</th>\n",
              "    </tr>\n",
              "  </thead>\n",
              "  <tbody>\n",
              "    <tr>\n",
              "      <th>0</th>\n",
              "      <td>Karapakkam</td>\n",
              "      <td>1004</td>\n",
              "      <td>2011-05-04</td>\n",
              "      <td>131</td>\n",
              "      <td>1</td>\n",
              "      <td>1</td>\n",
              "      <td>3</td>\n",
              "      <td>AbNormal</td>\n",
              "      <td>Yes</td>\n",
              "      <td>1967-05-15</td>\n",
              "      <td>Commercial</td>\n",
              "      <td>AllPub</td>\n",
              "      <td>Paved</td>\n",
              "      <td>A</td>\n",
              "      <td>4.0</td>\n",
              "      <td>3.9</td>\n",
              "      <td>4.9</td>\n",
              "      <td>4.330</td>\n",
              "      <td>7600000</td>\n",
              "      <td>44</td>\n",
              "    </tr>\n",
              "    <tr>\n",
              "      <th>1</th>\n",
              "      <td>Anna Nagar</td>\n",
              "      <td>1986</td>\n",
              "      <td>2006-12-19</td>\n",
              "      <td>26</td>\n",
              "      <td>2</td>\n",
              "      <td>1</td>\n",
              "      <td>5</td>\n",
              "      <td>AbNormal</td>\n",
              "      <td>No</td>\n",
              "      <td>1995-12-22</td>\n",
              "      <td>Commercial</td>\n",
              "      <td>AllPub</td>\n",
              "      <td>Gravel</td>\n",
              "      <td>RH</td>\n",
              "      <td>4.9</td>\n",
              "      <td>4.2</td>\n",
              "      <td>2.5</td>\n",
              "      <td>3.765</td>\n",
              "      <td>21717770</td>\n",
              "      <td>11</td>\n",
              "    </tr>\n",
              "    <tr>\n",
              "      <th>2</th>\n",
              "      <td>Adyar</td>\n",
              "      <td>909</td>\n",
              "      <td>2012-02-04</td>\n",
              "      <td>70</td>\n",
              "      <td>1</td>\n",
              "      <td>1</td>\n",
              "      <td>3</td>\n",
              "      <td>AbNormal</td>\n",
              "      <td>Yes</td>\n",
              "      <td>1992-02-09</td>\n",
              "      <td>Commercial</td>\n",
              "      <td>ELO</td>\n",
              "      <td>Gravel</td>\n",
              "      <td>RL</td>\n",
              "      <td>4.1</td>\n",
              "      <td>3.8</td>\n",
              "      <td>2.2</td>\n",
              "      <td>3.090</td>\n",
              "      <td>13159200</td>\n",
              "      <td>20</td>\n",
              "    </tr>\n",
              "    <tr>\n",
              "      <th>3</th>\n",
              "      <td>Velachery</td>\n",
              "      <td>1855</td>\n",
              "      <td>2010-03-13</td>\n",
              "      <td>14</td>\n",
              "      <td>3</td>\n",
              "      <td>2</td>\n",
              "      <td>5</td>\n",
              "      <td>Family</td>\n",
              "      <td>No</td>\n",
              "      <td>1988-03-18</td>\n",
              "      <td>Others</td>\n",
              "      <td>NoSewr</td>\n",
              "      <td>Paved</td>\n",
              "      <td>I</td>\n",
              "      <td>4.7</td>\n",
              "      <td>3.9</td>\n",
              "      <td>3.6</td>\n",
              "      <td>4.010</td>\n",
              "      <td>9630290</td>\n",
              "      <td>22</td>\n",
              "    </tr>\n",
              "    <tr>\n",
              "      <th>4</th>\n",
              "      <td>Karapakkam</td>\n",
              "      <td>1226</td>\n",
              "      <td>2009-10-05</td>\n",
              "      <td>84</td>\n",
              "      <td>1</td>\n",
              "      <td>1</td>\n",
              "      <td>3</td>\n",
              "      <td>AbNormal</td>\n",
              "      <td>Yes</td>\n",
              "      <td>1979-10-13</td>\n",
              "      <td>Others</td>\n",
              "      <td>AllPub</td>\n",
              "      <td>Gravel</td>\n",
              "      <td>C</td>\n",
              "      <td>3.0</td>\n",
              "      <td>2.5</td>\n",
              "      <td>4.1</td>\n",
              "      <td>3.290</td>\n",
              "      <td>7406250</td>\n",
              "      <td>30</td>\n",
              "    </tr>\n",
              "  </tbody>\n",
              "</table>\n",
              "</div>\n",
              "      <button class=\"colab-df-convert\" onclick=\"convertToInteractive('df-a292d59c-3b54-4865-b094-557340482422')\"\n",
              "              title=\"Convert this dataframe to an interactive table.\"\n",
              "              style=\"display:none;\">\n",
              "        \n",
              "  <svg xmlns=\"http://www.w3.org/2000/svg\" height=\"24px\"viewBox=\"0 0 24 24\"\n",
              "       width=\"24px\">\n",
              "    <path d=\"M0 0h24v24H0V0z\" fill=\"none\"/>\n",
              "    <path d=\"M18.56 5.44l.94 2.06.94-2.06 2.06-.94-2.06-.94-.94-2.06-.94 2.06-2.06.94zm-11 1L8.5 8.5l.94-2.06 2.06-.94-2.06-.94L8.5 2.5l-.94 2.06-2.06.94zm10 10l.94 2.06.94-2.06 2.06-.94-2.06-.94-.94-2.06-.94 2.06-2.06.94z\"/><path d=\"M17.41 7.96l-1.37-1.37c-.4-.4-.92-.59-1.43-.59-.52 0-1.04.2-1.43.59L10.3 9.45l-7.72 7.72c-.78.78-.78 2.05 0 2.83L4 21.41c.39.39.9.59 1.41.59.51 0 1.02-.2 1.41-.59l7.78-7.78 2.81-2.81c.8-.78.8-2.07 0-2.86zM5.41 20L4 18.59l7.72-7.72 1.47 1.35L5.41 20z\"/>\n",
              "  </svg>\n",
              "      </button>\n",
              "      \n",
              "  <style>\n",
              "    .colab-df-container {\n",
              "      display:flex;\n",
              "      flex-wrap:wrap;\n",
              "      gap: 12px;\n",
              "    }\n",
              "\n",
              "    .colab-df-convert {\n",
              "      background-color: #E8F0FE;\n",
              "      border: none;\n",
              "      border-radius: 50%;\n",
              "      cursor: pointer;\n",
              "      display: none;\n",
              "      fill: #1967D2;\n",
              "      height: 32px;\n",
              "      padding: 0 0 0 0;\n",
              "      width: 32px;\n",
              "    }\n",
              "\n",
              "    .colab-df-convert:hover {\n",
              "      background-color: #E2EBFA;\n",
              "      box-shadow: 0px 1px 2px rgba(60, 64, 67, 0.3), 0px 1px 3px 1px rgba(60, 64, 67, 0.15);\n",
              "      fill: #174EA6;\n",
              "    }\n",
              "\n",
              "    [theme=dark] .colab-df-convert {\n",
              "      background-color: #3B4455;\n",
              "      fill: #D2E3FC;\n",
              "    }\n",
              "\n",
              "    [theme=dark] .colab-df-convert:hover {\n",
              "      background-color: #434B5C;\n",
              "      box-shadow: 0px 1px 3px 1px rgba(0, 0, 0, 0.15);\n",
              "      filter: drop-shadow(0px 1px 2px rgba(0, 0, 0, 0.3));\n",
              "      fill: #FFFFFF;\n",
              "    }\n",
              "  </style>\n",
              "\n",
              "      <script>\n",
              "        const buttonEl =\n",
              "          document.querySelector('#df-a292d59c-3b54-4865-b094-557340482422 button.colab-df-convert');\n",
              "        buttonEl.style.display =\n",
              "          google.colab.kernel.accessAllowed ? 'block' : 'none';\n",
              "\n",
              "        async function convertToInteractive(key) {\n",
              "          const element = document.querySelector('#df-a292d59c-3b54-4865-b094-557340482422');\n",
              "          const dataTable =\n",
              "            await google.colab.kernel.invokeFunction('convertToInteractive',\n",
              "                                                     [key], {});\n",
              "          if (!dataTable) return;\n",
              "\n",
              "          const docLinkHtml = 'Like what you see? Visit the ' +\n",
              "            '<a target=\"_blank\" href=https://colab.research.google.com/notebooks/data_table.ipynb>data table notebook</a>'\n",
              "            + ' to learn more about interactive tables.';\n",
              "          element.innerHTML = '';\n",
              "          dataTable['output_type'] = 'display_data';\n",
              "          await google.colab.output.renderOutput(dataTable, element);\n",
              "          const docLink = document.createElement('div');\n",
              "          docLink.innerHTML = docLinkHtml;\n",
              "          element.appendChild(docLink);\n",
              "        }\n",
              "      </script>\n",
              "    </div>\n",
              "  </div>\n",
              "  "
            ]
          },
          "metadata": {},
          "execution_count": 20
        }
      ]
    },
    {
      "cell_type": "markdown",
      "source": [
        "**Describing the Numarical Columns**"
      ],
      "metadata": {
        "id": "DLB5MemfIHRr"
      }
    },
    {
      "cell_type": "code",
      "source": [
        "df.describe()"
      ],
      "metadata": {
        "colab": {
          "base_uri": "https://localhost:8080/",
          "height": 344
        },
        "id": "vuBAVyICpbnf",
        "outputId": "4f5400ca-141a-4ad3-afb4-29c6c05d0b0d"
      },
      "execution_count": null,
      "outputs": [
        {
          "output_type": "execute_result",
          "data": {
            "text/plain": [
              "          INT_SQFT  DIST_MAINROAD    N_BEDROOM   N_BATHROOM       N_ROOM  \\\n",
              "count  7109.000000    7109.000000  7109.000000  7109.000000  7109.000000   \n",
              "mean   1382.073006      99.603179     1.636939     1.213110     3.688704   \n",
              "std     457.410902      57.403110     0.802881     0.409534     1.019099   \n",
              "min     500.000000       0.000000     1.000000     1.000000     2.000000   \n",
              "25%     993.000000      50.000000     1.000000     1.000000     3.000000   \n",
              "50%    1373.000000      99.000000     1.000000     1.000000     4.000000   \n",
              "75%    1744.000000     148.000000     2.000000     1.000000     4.000000   \n",
              "max    2500.000000     200.000000     4.000000     2.000000     6.000000   \n",
              "\n",
              "          QS_ROOMS  QS_BATHROOM   QS_BEDROOM   QS_OVERALL   SALES_PRICE  \\\n",
              "count  7109.000000  7109.000000  7109.000000  7109.000000  7.109000e+03   \n",
              "mean      3.517471     3.507244     3.485300     3.503232  1.089491e+07   \n",
              "std       0.891972     0.897834     0.887266     0.525440  3.768603e+06   \n",
              "min       2.000000     2.000000     2.000000     2.000000  2.156875e+06   \n",
              "25%       2.700000     2.700000     2.700000     3.130000  8.272100e+06   \n",
              "50%       3.500000     3.500000     3.500000     3.500000  1.033505e+07   \n",
              "75%       4.300000     4.300000     4.300000     3.880000  1.299390e+07   \n",
              "max       5.000000     5.000000     5.000000     4.970000  2.366734e+07   \n",
              "\n",
              "               AGE  \n",
              "count  7109.000000  \n",
              "mean     24.276270  \n",
              "std      12.334164  \n",
              "min       3.000000  \n",
              "25%      14.000000  \n",
              "50%      23.000000  \n",
              "75%      34.000000  \n",
              "max      55.000000  "
            ],
            "text/html": [
              "\n",
              "  <div id=\"df-e4be4cd1-37c5-44a4-987b-05f0f8ba6fc5\">\n",
              "    <div class=\"colab-df-container\">\n",
              "      <div>\n",
              "<style scoped>\n",
              "    .dataframe tbody tr th:only-of-type {\n",
              "        vertical-align: middle;\n",
              "    }\n",
              "\n",
              "    .dataframe tbody tr th {\n",
              "        vertical-align: top;\n",
              "    }\n",
              "\n",
              "    .dataframe thead th {\n",
              "        text-align: right;\n",
              "    }\n",
              "</style>\n",
              "<table border=\"1\" class=\"dataframe\">\n",
              "  <thead>\n",
              "    <tr style=\"text-align: right;\">\n",
              "      <th></th>\n",
              "      <th>INT_SQFT</th>\n",
              "      <th>DIST_MAINROAD</th>\n",
              "      <th>N_BEDROOM</th>\n",
              "      <th>N_BATHROOM</th>\n",
              "      <th>N_ROOM</th>\n",
              "      <th>QS_ROOMS</th>\n",
              "      <th>QS_BATHROOM</th>\n",
              "      <th>QS_BEDROOM</th>\n",
              "      <th>QS_OVERALL</th>\n",
              "      <th>SALES_PRICE</th>\n",
              "      <th>AGE</th>\n",
              "    </tr>\n",
              "  </thead>\n",
              "  <tbody>\n",
              "    <tr>\n",
              "      <th>count</th>\n",
              "      <td>7109.000000</td>\n",
              "      <td>7109.000000</td>\n",
              "      <td>7109.000000</td>\n",
              "      <td>7109.000000</td>\n",
              "      <td>7109.000000</td>\n",
              "      <td>7109.000000</td>\n",
              "      <td>7109.000000</td>\n",
              "      <td>7109.000000</td>\n",
              "      <td>7109.000000</td>\n",
              "      <td>7.109000e+03</td>\n",
              "      <td>7109.000000</td>\n",
              "    </tr>\n",
              "    <tr>\n",
              "      <th>mean</th>\n",
              "      <td>1382.073006</td>\n",
              "      <td>99.603179</td>\n",
              "      <td>1.636939</td>\n",
              "      <td>1.213110</td>\n",
              "      <td>3.688704</td>\n",
              "      <td>3.517471</td>\n",
              "      <td>3.507244</td>\n",
              "      <td>3.485300</td>\n",
              "      <td>3.503232</td>\n",
              "      <td>1.089491e+07</td>\n",
              "      <td>24.276270</td>\n",
              "    </tr>\n",
              "    <tr>\n",
              "      <th>std</th>\n",
              "      <td>457.410902</td>\n",
              "      <td>57.403110</td>\n",
              "      <td>0.802881</td>\n",
              "      <td>0.409534</td>\n",
              "      <td>1.019099</td>\n",
              "      <td>0.891972</td>\n",
              "      <td>0.897834</td>\n",
              "      <td>0.887266</td>\n",
              "      <td>0.525440</td>\n",
              "      <td>3.768603e+06</td>\n",
              "      <td>12.334164</td>\n",
              "    </tr>\n",
              "    <tr>\n",
              "      <th>min</th>\n",
              "      <td>500.000000</td>\n",
              "      <td>0.000000</td>\n",
              "      <td>1.000000</td>\n",
              "      <td>1.000000</td>\n",
              "      <td>2.000000</td>\n",
              "      <td>2.000000</td>\n",
              "      <td>2.000000</td>\n",
              "      <td>2.000000</td>\n",
              "      <td>2.000000</td>\n",
              "      <td>2.156875e+06</td>\n",
              "      <td>3.000000</td>\n",
              "    </tr>\n",
              "    <tr>\n",
              "      <th>25%</th>\n",
              "      <td>993.000000</td>\n",
              "      <td>50.000000</td>\n",
              "      <td>1.000000</td>\n",
              "      <td>1.000000</td>\n",
              "      <td>3.000000</td>\n",
              "      <td>2.700000</td>\n",
              "      <td>2.700000</td>\n",
              "      <td>2.700000</td>\n",
              "      <td>3.130000</td>\n",
              "      <td>8.272100e+06</td>\n",
              "      <td>14.000000</td>\n",
              "    </tr>\n",
              "    <tr>\n",
              "      <th>50%</th>\n",
              "      <td>1373.000000</td>\n",
              "      <td>99.000000</td>\n",
              "      <td>1.000000</td>\n",
              "      <td>1.000000</td>\n",
              "      <td>4.000000</td>\n",
              "      <td>3.500000</td>\n",
              "      <td>3.500000</td>\n",
              "      <td>3.500000</td>\n",
              "      <td>3.500000</td>\n",
              "      <td>1.033505e+07</td>\n",
              "      <td>23.000000</td>\n",
              "    </tr>\n",
              "    <tr>\n",
              "      <th>75%</th>\n",
              "      <td>1744.000000</td>\n",
              "      <td>148.000000</td>\n",
              "      <td>2.000000</td>\n",
              "      <td>1.000000</td>\n",
              "      <td>4.000000</td>\n",
              "      <td>4.300000</td>\n",
              "      <td>4.300000</td>\n",
              "      <td>4.300000</td>\n",
              "      <td>3.880000</td>\n",
              "      <td>1.299390e+07</td>\n",
              "      <td>34.000000</td>\n",
              "    </tr>\n",
              "    <tr>\n",
              "      <th>max</th>\n",
              "      <td>2500.000000</td>\n",
              "      <td>200.000000</td>\n",
              "      <td>4.000000</td>\n",
              "      <td>2.000000</td>\n",
              "      <td>6.000000</td>\n",
              "      <td>5.000000</td>\n",
              "      <td>5.000000</td>\n",
              "      <td>5.000000</td>\n",
              "      <td>4.970000</td>\n",
              "      <td>2.366734e+07</td>\n",
              "      <td>55.000000</td>\n",
              "    </tr>\n",
              "  </tbody>\n",
              "</table>\n",
              "</div>\n",
              "      <button class=\"colab-df-convert\" onclick=\"convertToInteractive('df-e4be4cd1-37c5-44a4-987b-05f0f8ba6fc5')\"\n",
              "              title=\"Convert this dataframe to an interactive table.\"\n",
              "              style=\"display:none;\">\n",
              "        \n",
              "  <svg xmlns=\"http://www.w3.org/2000/svg\" height=\"24px\"viewBox=\"0 0 24 24\"\n",
              "       width=\"24px\">\n",
              "    <path d=\"M0 0h24v24H0V0z\" fill=\"none\"/>\n",
              "    <path d=\"M18.56 5.44l.94 2.06.94-2.06 2.06-.94-2.06-.94-.94-2.06-.94 2.06-2.06.94zm-11 1L8.5 8.5l.94-2.06 2.06-.94-2.06-.94L8.5 2.5l-.94 2.06-2.06.94zm10 10l.94 2.06.94-2.06 2.06-.94-2.06-.94-.94-2.06-.94 2.06-2.06.94z\"/><path d=\"M17.41 7.96l-1.37-1.37c-.4-.4-.92-.59-1.43-.59-.52 0-1.04.2-1.43.59L10.3 9.45l-7.72 7.72c-.78.78-.78 2.05 0 2.83L4 21.41c.39.39.9.59 1.41.59.51 0 1.02-.2 1.41-.59l7.78-7.78 2.81-2.81c.8-.78.8-2.07 0-2.86zM5.41 20L4 18.59l7.72-7.72 1.47 1.35L5.41 20z\"/>\n",
              "  </svg>\n",
              "      </button>\n",
              "      \n",
              "  <style>\n",
              "    .colab-df-container {\n",
              "      display:flex;\n",
              "      flex-wrap:wrap;\n",
              "      gap: 12px;\n",
              "    }\n",
              "\n",
              "    .colab-df-convert {\n",
              "      background-color: #E8F0FE;\n",
              "      border: none;\n",
              "      border-radius: 50%;\n",
              "      cursor: pointer;\n",
              "      display: none;\n",
              "      fill: #1967D2;\n",
              "      height: 32px;\n",
              "      padding: 0 0 0 0;\n",
              "      width: 32px;\n",
              "    }\n",
              "\n",
              "    .colab-df-convert:hover {\n",
              "      background-color: #E2EBFA;\n",
              "      box-shadow: 0px 1px 2px rgba(60, 64, 67, 0.3), 0px 1px 3px 1px rgba(60, 64, 67, 0.15);\n",
              "      fill: #174EA6;\n",
              "    }\n",
              "\n",
              "    [theme=dark] .colab-df-convert {\n",
              "      background-color: #3B4455;\n",
              "      fill: #D2E3FC;\n",
              "    }\n",
              "\n",
              "    [theme=dark] .colab-df-convert:hover {\n",
              "      background-color: #434B5C;\n",
              "      box-shadow: 0px 1px 3px 1px rgba(0, 0, 0, 0.15);\n",
              "      filter: drop-shadow(0px 1px 2px rgba(0, 0, 0, 0.3));\n",
              "      fill: #FFFFFF;\n",
              "    }\n",
              "  </style>\n",
              "\n",
              "      <script>\n",
              "        const buttonEl =\n",
              "          document.querySelector('#df-e4be4cd1-37c5-44a4-987b-05f0f8ba6fc5 button.colab-df-convert');\n",
              "        buttonEl.style.display =\n",
              "          google.colab.kernel.accessAllowed ? 'block' : 'none';\n",
              "\n",
              "        async function convertToInteractive(key) {\n",
              "          const element = document.querySelector('#df-e4be4cd1-37c5-44a4-987b-05f0f8ba6fc5');\n",
              "          const dataTable =\n",
              "            await google.colab.kernel.invokeFunction('convertToInteractive',\n",
              "                                                     [key], {});\n",
              "          if (!dataTable) return;\n",
              "\n",
              "          const docLinkHtml = 'Like what you see? Visit the ' +\n",
              "            '<a target=\"_blank\" href=https://colab.research.google.com/notebooks/data_table.ipynb>data table notebook</a>'\n",
              "            + ' to learn more about interactive tables.';\n",
              "          element.innerHTML = '';\n",
              "          dataTable['output_type'] = 'display_data';\n",
              "          await google.colab.output.renderOutput(dataTable, element);\n",
              "          const docLink = document.createElement('div');\n",
              "          docLink.innerHTML = docLinkHtml;\n",
              "          element.appendChild(docLink);\n",
              "        }\n",
              "      </script>\n",
              "    </div>\n",
              "  </div>\n",
              "  "
            ]
          },
          "metadata": {},
          "execution_count": 21
        }
      ]
    },
    {
      "cell_type": "markdown",
      "source": [
        "Categorical Columns: AREA, SALE_COND, PARK_FACIL, BUILDTYPE, UTILITY_AVAIL, STREET, MZZONE "
      ],
      "metadata": {
        "id": "b62x6QO5DFes"
      }
    },
    {
      "cell_type": "markdown",
      "source": [
        "**Checking Unique elements in Categorical Columns**"
      ],
      "metadata": {
        "id": "VGlUANrfJr4E"
      }
    },
    {
      "cell_type": "code",
      "source": [
        "print(df['AREA'].unique())\n",
        "print(df['SALE_COND'].unique())\n",
        "print(df['PARK_FACIL'].unique())\n",
        "print(df['BUILDTYPE'].unique())\n",
        "print(df['UTILITY_AVAIL'].unique())\n",
        "print(df['STREET'].unique())\n",
        "print(df['MZZONE'].unique()) "
      ],
      "metadata": {
        "colab": {
          "base_uri": "https://localhost:8080/"
        },
        "id": "LmmSuTn8DEsG",
        "outputId": "380587e3-eea8-4a44-9087-eedf3cf1e8e1"
      },
      "execution_count": null,
      "outputs": [
        {
          "output_type": "stream",
          "name": "stdout",
          "text": [
            "['Karapakkam' 'Anna Nagar' 'Adyar' 'Velachery' 'Chrompet' 'KK Nagar'\n",
            " 'TNagar' 'T Nagar' 'Chrompt' 'Chrmpet' 'Karapakam' 'Ana Nagar' 'Chormpet'\n",
            " 'Adyr' 'Velchery' 'Ann Nagar' 'KKNagar']\n",
            "['AbNormal' 'Family' 'Partial' 'AdjLand' 'Normal Sale' 'Ab Normal'\n",
            " 'Partiall' 'Adj Land' 'PartiaLl']\n",
            "['Yes' 'No' 'Noo']\n",
            "['Commercial' 'Others' 'Other' 'House' 'Comercial']\n",
            "['AllPub' 'ELO' 'NoSewr ' 'NoSeWa' 'All Pub']\n",
            "['Paved' 'Gravel' 'No Access' 'Pavd' 'NoAccess']\n",
            "['A' 'RH' 'RL' 'I' 'C' 'RM']\n"
          ]
        }
      ]
    },
    {
      "cell_type": "markdown",
      "source": [
        "The problem with categorical columns is Spelling mistakes."
      ],
      "metadata": {
        "id": "uew_2yzbOdym"
      }
    },
    {
      "cell_type": "markdown",
      "source": [
        "**Correcting the Spelling Mistakes**"
      ],
      "metadata": {
        "id": "Vx2qN35kKeX2"
      }
    },
    {
      "cell_type": "code",
      "source": [
        "df['AREA'].replace(['Karapakam'],'Karapakkam',inplace=True)\n",
        "df['AREA'].replace(['Ana Nagar','Ana Nagar','Ann Nagar'],'Anna Nagar',inplace=True)\n",
        "df['AREA'].replace(['Adyr'],'Adyar',inplace=True)\n",
        "df['AREA'].replace(['Velchery'],'Velachery',inplace=True)\n",
        "df['AREA'].replace(['Chormpet','Chrmpet','Chrompt'],'Chrompet',inplace=True)\n",
        "df['AREA'].replace(['KKNagar',],'KK Nagar',inplace=True)\n",
        "df['AREA'].replace(['TNagar'],  'T Nagar', inplace = True)\n",
        "\n",
        "df['SALE_COND'].replace(['Ab Normal'],'AbNormal',inplace=True)\n",
        "df['SALE_COND'].replace(['PartiaLl','Partiall'],'Partial',inplace=True)\n",
        "df['SALE_COND'].replace(['Adj Land'],'AdjLand',inplace=True)\n",
        "\n",
        "df['PARK_FACIL'].replace(['Noo'],'No',inplace=True)\n",
        "\n",
        "df['BUILDTYPE'].replace(['Others'],'Other',inplace=True)\n",
        "df['BUILDTYPE'].replace(['Comercial'],'Commercial',inplace=True)\n",
        "\n",
        "df['UTILITY_AVAIL'].replace(['AllPub'],'All Pub',inplace=True)\n",
        "df['UTILITY_AVAIL'].replace(['NoSewr ', 'NoSeWa'],'NoSewr',inplace=True)\n",
        "\n",
        "df['STREET'].replace(['Pavd'],'Paved',inplace=True)\n",
        "df['STREET'].replace(['NoAccess'],'No Access',inplace=True)"
      ],
      "metadata": {
        "id": "6n2DMZ0XEsVC"
      },
      "execution_count": null,
      "outputs": []
    },
    {
      "cell_type": "code",
      "source": [
        "print(df['AREA'].unique())\n",
        "print(df['SALE_COND'].unique())\n",
        "print(df['PARK_FACIL'].unique())\n",
        "print(df['BUILDTYPE'].unique())\n",
        "print(df['UTILITY_AVAIL'].unique())\n",
        "print(df['STREET'].unique())\n",
        "print(df['MZZONE'].unique())"
      ],
      "metadata": {
        "colab": {
          "base_uri": "https://localhost:8080/"
        },
        "id": "8N9e2-_nNHRp",
        "outputId": "00be0430-2d19-4d09-8013-5f235c56ba1e"
      },
      "execution_count": null,
      "outputs": [
        {
          "output_type": "stream",
          "name": "stdout",
          "text": [
            "['Karapakkam' 'Anna Nagar' 'Adyar' 'Velachery' 'Chrompet' 'KK Nagar'\n",
            " 'T Nagar']\n",
            "['AbNormal' 'Family' 'Partial' 'AdjLand' 'Normal Sale']\n",
            "['Yes' 'No']\n",
            "['Commercial' 'Other' 'House']\n",
            "['All Pub' 'ELO' 'NoSewr']\n",
            "['Paved' 'Gravel' 'No Access']\n",
            "['A' 'RH' 'RL' 'I' 'C' 'RM']\n"
          ]
        }
      ]
    },
    {
      "cell_type": "markdown",
      "source": [
        "After correcting all Spelling mistakes in Categorical Columns, the above are the Unique names."
      ],
      "metadata": {
        "id": "XJdEaPmDKnWD"
      }
    },
    {
      "cell_type": "code",
      "source": [
        "df.columns"
      ],
      "metadata": {
        "colab": {
          "base_uri": "https://localhost:8080/"
        },
        "id": "DJpjthplKYBC",
        "outputId": "8b89c286-c7c8-4ba3-e489-c933aea5ebbd"
      },
      "execution_count": null,
      "outputs": [
        {
          "output_type": "execute_result",
          "data": {
            "text/plain": [
              "Index(['AREA', 'INT_SQFT', 'DATE_SALE', 'DIST_MAINROAD', 'N_BEDROOM',\n",
              "       'N_BATHROOM', 'N_ROOM', 'SALE_COND', 'PARK_FACIL', 'DATE_BUILD',\n",
              "       'BUILDTYPE', 'UTILITY_AVAIL', 'STREET', 'MZZONE', 'QS_ROOMS',\n",
              "       'QS_BATHROOM', 'QS_BEDROOM', 'QS_OVERALL', 'SALES_PRICE', 'AGE'],\n",
              "      dtype='object')"
            ]
          },
          "metadata": {},
          "execution_count": 25
        }
      ]
    },
    {
      "cell_type": "markdown",
      "source": [
        "**Exploratory Data Analysis**"
      ],
      "metadata": {
        "id": "MRz3n7j9Oa7J"
      }
    },
    {
      "cell_type": "markdown",
      "source": [
        "***EDA for Categorical Columns***"
      ],
      "metadata": {
        "id": "yAotGiSdOiBc"
      }
    },
    {
      "cell_type": "markdown",
      "source": [
        "**Checking Relationship in between the AREA Feature and SALES_PRICE Target columns**"
      ],
      "metadata": {
        "id": "Vzq9pIS_LDU5"
      }
    },
    {
      "cell_type": "code",
      "source": [
        "sns.histplot(df.AREA, linewidth=0,kde=True)\n",
        "plt.xticks(rotation=45)"
      ],
      "metadata": {
        "colab": {
          "base_uri": "https://localhost:8080/",
          "height": 337
        },
        "id": "ELsZF9CfsbbH",
        "outputId": "70a9349b-1da0-40b5-cb62-6341669685de"
      },
      "execution_count": null,
      "outputs": [
        {
          "output_type": "execute_result",
          "data": {
            "text/plain": [
              "([0, 1, 2, 3, 4, 5, 6], <a list of 7 Text major ticklabel objects>)"
            ]
          },
          "metadata": {},
          "execution_count": 26
        },
        {
          "output_type": "display_data",
          "data": {
            "text/plain": [
              "<Figure size 432x288 with 1 Axes>"
            ],
            "image/png": "[encoded data removed]"
          },
          "metadata": {
            "needs_background": "light"
          }
        }
      ]
    },
    {
      "cell_type": "code",
      "source": [
        "area_order = df.groupby('AREA')['SALES_PRICE'].mean().reset_index().sort_values('SALES_PRICE')['AREA']\n",
        "sns.barplot(x='AREA',y='SALES_PRICE',data=df,order = area_order)\n",
        "plt.xticks(rotation=45)"
      ],
      "metadata": {
        "id": "7hslYtJEarcn",
        "colab": {
          "base_uri": "https://localhost:8080/",
          "height": 348
        },
        "outputId": "8f508fd0-fb38-4f1f-a1f8-f8dc0717c43c"
      },
      "execution_count": null,
      "outputs": [
        {
          "output_type": "execute_result",
          "data": {
            "text/plain": [
              "(array([0, 1, 2, 3, 4, 5, 6]), <a list of 7 Text major ticklabel objects>)"
            ]
          },
          "metadata": {},
          "execution_count": 27
        },
        {
          "output_type": "display_data",
          "data": {
            "text/plain": [
              "<Figure size 432x288 with 1 Axes>"
            ],
            "image/png": "[encoded data removed]"
          },
          "metadata": {
            "needs_background": "light"
          }
        }
      ]
    },
    {
      "cell_type": "markdown",
      "source": [
        "Anna Nagar and T Nagar are the area's with highest sale-price."
      ],
      "metadata": {
        "id": "J7_7f6dlLYDT"
      }
    },
    {
      "cell_type": "markdown",
      "source": [
        "* There is a Linear Relationship in between AREA Feature and SALES_PRICE \n",
        "Target. So, will do label encoding for AREA column.\n",
        "* This feature will help in model fitting.\n",
        "\n",
        "\n",
        "\n"
      ],
      "metadata": {
        "id": "uDhKdQ_zQuOl"
      }
    },
    {
      "cell_type": "markdown",
      "source": [
        "**Checking Relationship in between the SALE_COND Feature and SALES_PRICE Target columns**"
      ],
      "metadata": {
        "id": "8nQs2mbSrQXu"
      }
    },
    {
      "cell_type": "code",
      "source": [
        "sns.histplot(df.SALE_COND, linewidth=0,kde=True)\n",
        "plt.xticks(rotation=45)"
      ],
      "metadata": {
        "colab": {
          "base_uri": "https://localhost:8080/",
          "height": 340
        },
        "id": "iV2SPVbbeoaf",
        "outputId": "c6c049f4-bb36-4970-a0df-5907acfa404c"
      },
      "execution_count": null,
      "outputs": [
        {
          "output_type": "execute_result",
          "data": {
            "text/plain": [
              "([0, 1, 2, 3, 4], <a list of 5 Text major ticklabel objects>)"
            ]
          },
          "metadata": {},
          "execution_count": 28
        },
        {
          "output_type": "display_data",
          "data": {
            "text/plain": [
              "<Figure size 432x288 with 1 Axes>"
            ],
            "image/png": "[encoded data removed]"
          },
          "metadata": {
            "needs_background": "light"
          }
        }
      ]
    },
    {
      "cell_type": "code",
      "source": [
        "sale_cond_order = df.groupby('SALE_COND')['SALES_PRICE'].mean().reset_index().sort_values('SALES_PRICE')['SALE_COND']\n",
        "sns.barplot(x='SALE_COND',y='SALES_PRICE',data=df,order = sale_cond_order)"
      ],
      "metadata": {
        "id": "h2oGP4bEduUs",
        "colab": {
          "base_uri": "https://localhost:8080/",
          "height": 308
        },
        "outputId": "908dde2d-e95e-439b-8b32-7cdc8575085d"
      },
      "execution_count": null,
      "outputs": [
        {
          "output_type": "execute_result",
          "data": {
            "text/plain": [
              "<matplotlib.axes._subplots.AxesSubplot at 0x7f85bd182b50>"
            ]
          },
          "metadata": {},
          "execution_count": 29
        },
        {
          "output_type": "display_data",
          "data": {
            "text/plain": [
              "<Figure size 432x288 with 1 Axes>"
            ],
            "image/png": "[encoded data removed]"
          },
          "metadata": {
            "needs_background": "light"
          }
        }
      ]
    },
    {
      "cell_type": "markdown",
      "source": [
        "In SALE_COND condition Column, all Categories are uniformly distributed."
      ],
      "metadata": {
        "id": "IdkcU-H9Sh-X"
      }
    },
    {
      "cell_type": "markdown",
      "source": [
        "* There is no Relationship between SALE_COND Feature and SALES_PRICE Target Columns.\n",
        "* will drop the SALE_COND feature from this dataset.\n",
        "\n"
      ],
      "metadata": {
        "id": "zJwhaV10U6Wz"
      }
    },
    {
      "cell_type": "markdown",
      "source": [
        "**Checking Relationship in between the PARK_FACIL Feature and SALES_PRICE Target columns**"
      ],
      "metadata": {
        "id": "VHDC9dnJrm1b"
      }
    },
    {
      "cell_type": "code",
      "source": [
        "sns.histplot(df.PARK_FACIL, linewidth=0,kde=True)\n",
        "plt.xticks(rotation=45)"
      ],
      "metadata": {
        "colab": {
          "base_uri": "https://localhost:8080/",
          "height": 306
        },
        "id": "jLdJsE1RfV3d",
        "outputId": "e9c46e3b-0f6b-4e47-c495-d66a2d280688"
      },
      "execution_count": null,
      "outputs": [
        {
          "output_type": "execute_result",
          "data": {
            "text/plain": [
              "([0, 1], <a list of 2 Text major ticklabel objects>)"
            ]
          },
          "metadata": {},
          "execution_count": 30
        },
        {
          "output_type": "display_data",
          "data": {
            "text/plain": [
              "<Figure size 432x288 with 1 Axes>"
            ],
            "image/png": "[encoded data removed]"
          },
          "metadata": {
            "needs_background": "light"
          }
        }
      ]
    },
    {
      "cell_type": "code",
      "source": [
        "sns.barplot(x='PARK_FACIL',y='SALES_PRICE',data=df)"
      ],
      "metadata": {
        "colab": {
          "base_uri": "https://localhost:8080/",
          "height": 308
        },
        "id": "qiKWwQQkQIVv",
        "outputId": "afb917db-0a6c-45ef-992a-b9306a692902"
      },
      "execution_count": null,
      "outputs": [
        {
          "output_type": "execute_result",
          "data": {
            "text/plain": [
              "<matplotlib.axes._subplots.AxesSubplot at 0x7f85bd13f390>"
            ]
          },
          "metadata": {},
          "execution_count": 31
        },
        {
          "output_type": "display_data",
          "data": {
            "text/plain": [
              "<Figure size 432x288 with 1 Axes>"
            ],
            "image/png": "[encoded data removed]"
          },
          "metadata": {
            "needs_background": "light"
          }
        }
      ]
    },
    {
      "cell_type": "markdown",
      "source": [
        "*  Houses having Park Facilities are more expensive than the houses with no park facility."
      ],
      "metadata": {
        "id": "m0Cb8sYXXWq7"
      }
    },
    {
      "cell_type": "markdown",
      "source": [
        "* There is a strong linear relationship in between PARK_FACIL Feature and SALES_PRICE Target.\n",
        "* This feature is very useful at the time of model fitting.will keep as it is.\n",
        "\n"
      ],
      "metadata": {
        "id": "fU2RqM3Qel-F"
      }
    },
    {
      "cell_type": "markdown",
      "source": [
        "**Checking Relationship in between the BUILDTYPE Feature and SALES_PRICE Target columns**"
      ],
      "metadata": {
        "id": "X28LJNHArt_d"
      }
    },
    {
      "cell_type": "code",
      "source": [
        "sns.histplot(df.BUILDTYPE, linewidth=0,kde=True)\n",
        "plt.xticks(rotation=45)"
      ],
      "metadata": {
        "colab": {
          "base_uri": "https://localhost:8080/",
          "height": 335
        },
        "id": "EWQQeqbqfsIJ",
        "outputId": "dc0ae306-fd5b-4b32-c648-6b1446060751"
      },
      "execution_count": null,
      "outputs": [
        {
          "output_type": "execute_result",
          "data": {
            "text/plain": [
              "([0, 1, 2], <a list of 3 Text major ticklabel objects>)"
            ]
          },
          "metadata": {},
          "execution_count": 32
        },
        {
          "output_type": "display_data",
          "data": {
            "text/plain": [
              "<Figure size 432x288 with 1 Axes>"
            ],
            "image/png": "[encoded data removed]"
          },
          "metadata": {
            "needs_background": "light"
          }
        }
      ]
    },
    {
      "cell_type": "code",
      "source": [
        "sns.barplot(x='BUILDTYPE',y='SALES_PRICE',data=df)"
      ],
      "metadata": {
        "colab": {
          "base_uri": "https://localhost:8080/",
          "height": 307
        },
        "id": "FKeX1frtTDJ1",
        "outputId": "0ab075ac-8f48-4817-a657-3f2cb5e2dc0d"
      },
      "execution_count": null,
      "outputs": [
        {
          "output_type": "execute_result",
          "data": {
            "text/plain": [
              "<matplotlib.axes._subplots.AxesSubplot at 0x7f85bd8a8150>"
            ]
          },
          "metadata": {},
          "execution_count": 33
        },
        {
          "output_type": "display_data",
          "data": {
            "text/plain": [
              "<Figure size 432x288 with 1 Axes>"
            ],
            "image/png": "[encoded data removed]"
          },
          "metadata": {
            "needs_background": "light"
          }
        }
      ]
    },
    {
      "cell_type": "markdown",
      "source": [
        "Commercial Buildings are expensive than the other type of buildings."
      ],
      "metadata": {
        "id": "uMQ6cC1VYkQq"
      }
    },
    {
      "cell_type": "markdown",
      "source": [
        "* There is a relationship in between the BUILDTYPE Feature and SALES_PRICE Target. But there is no linear relationship in between these features. So, will do ONE - HOT encoding for BUILDTYPE column.\n",
        "* will keep this feature as it is.\n",
        "\n"
      ],
      "metadata": {
        "id": "eAgjFRsCfYE6"
      }
    },
    {
      "cell_type": "markdown",
      "source": [
        "**Checking Relationship in between the UTILITY_AVAIL Feature and SALES_PRICE Target columns**"
      ],
      "metadata": {
        "id": "_Uf3mIg2rz7a"
      }
    },
    {
      "cell_type": "code",
      "source": [
        "sns.histplot(df.UTILITY_AVAIL, linewidth=0,kde=True)\n",
        "plt.xticks(rotation=45)"
      ],
      "metadata": {
        "colab": {
          "base_uri": "https://localhost:8080/",
          "height": 321
        },
        "id": "oW3wekJkgSqm",
        "outputId": "874b131e-2425-4cd2-f116-22cbe160ee7a"
      },
      "execution_count": null,
      "outputs": [
        {
          "output_type": "execute_result",
          "data": {
            "text/plain": [
              "([0, 1, 2], <a list of 3 Text major ticklabel objects>)"
            ]
          },
          "metadata": {},
          "execution_count": 34
        },
        {
          "output_type": "display_data",
          "data": {
            "text/plain": [
              "<Figure size 432x288 with 1 Axes>"
            ],
            "image/png": "[encoded data removed]"
          },
          "metadata": {
            "needs_background": "light"
          }
        }
      ]
    },
    {
      "cell_type": "code",
      "source": [
        "utility_avail_order = df.groupby('UTILITY_AVAIL')['SALES_PRICE'].mean().reset_index().sort_values('SALES_PRICE')['UTILITY_AVAIL']\n",
        "sns.barplot(x='UTILITY_AVAIL',y='SALES_PRICE',data=df,order = utility_avail_order)"
      ],
      "metadata": {
        "id": "YrTVXnmJfdNi",
        "colab": {
          "base_uri": "https://localhost:8080/",
          "height": 308
        },
        "outputId": "ea4a4e93-d7a0-45dc-d9dc-fbd0d247db44"
      },
      "execution_count": null,
      "outputs": [
        {
          "output_type": "execute_result",
          "data": {
            "text/plain": [
              "<matplotlib.axes._subplots.AxesSubplot at 0x7f85bd1f89d0>"
            ]
          },
          "metadata": {},
          "execution_count": 35
        },
        {
          "output_type": "display_data",
          "data": {
            "text/plain": [
              "<Figure size 432x288 with 1 Axes>"
            ],
            "image/png": "[encoded data removed]"
          },
          "metadata": {
            "needs_background": "light"
          }
        }
      ]
    },
    {
      "cell_type": "markdown",
      "source": [
        "* There is a linear relationship in between the UTILITY_AVAIL Feature and SALES_PRICE Target. So, will do label encoding for UTILITY_AVAIL column.\n",
        "* Will use this feature in model fitting.\n",
        "\n",
        "\n"
      ],
      "metadata": {
        "id": "jcj8yXK_gPWL"
      }
    },
    {
      "cell_type": "markdown",
      "source": [
        "**Checking Relationship in between the STREET Feature and SALES_PRICE Target columns**"
      ],
      "metadata": {
        "id": "G9b2hMoHsAjc"
      }
    },
    {
      "cell_type": "code",
      "source": [
        "sns.histplot(df.STREET, linewidth=0,kde=True)\n",
        "plt.xticks(rotation=45)"
      ],
      "metadata": {
        "colab": {
          "base_uri": "https://localhost:8080/",
          "height": 329
        },
        "id": "u66-W-2xgxsI",
        "outputId": "9cb44aac-c508-4acd-8e5d-651564ea34d6"
      },
      "execution_count": null,
      "outputs": [
        {
          "output_type": "execute_result",
          "data": {
            "text/plain": [
              "([0, 1, 2], <a list of 3 Text major ticklabel objects>)"
            ]
          },
          "metadata": {},
          "execution_count": 36
        },
        {
          "output_type": "display_data",
          "data": {
            "text/plain": [
              "<Figure size 432x288 with 1 Axes>"
            ],
            "image/png": "[encoded data removed]"
          },
          "metadata": {
            "needs_background": "light"
          }
        }
      ]
    },
    {
      "cell_type": "code",
      "source": [
        "street_order = df.groupby('STREET')['SALES_PRICE'].mean().reset_index().sort_values('SALES_PRICE')['STREET']\n",
        "sns.barplot(x='STREET',y='SALES_PRICE',data=df,order = street_order)"
      ],
      "metadata": {
        "id": "CKBKsCR3gmGM",
        "colab": {
          "base_uri": "https://localhost:8080/",
          "height": 307
        },
        "outputId": "a283342d-cc42-4103-e29e-2d7c6f436c9e"
      },
      "execution_count": null,
      "outputs": [
        {
          "output_type": "execute_result",
          "data": {
            "text/plain": [
              "<matplotlib.axes._subplots.AxesSubplot at 0x7f85bceb7610>"
            ]
          },
          "metadata": {},
          "execution_count": 37
        },
        {
          "output_type": "display_data",
          "data": {
            "text/plain": [
              "<Figure size 432x288 with 1 Axes>"
            ],
            "image/png": "[encoded data removed]"
          },
          "metadata": {
            "needs_background": "light"
          }
        }
      ]
    },
    {
      "cell_type": "markdown",
      "source": [
        "Gravel Street houses are more expensive than other types."
      ],
      "metadata": {
        "id": "5DmwZPe8aGws"
      }
    },
    {
      "cell_type": "markdown",
      "source": [
        "* There is a linear relationship in between the STREET Feature and SALES_PRICE Target. So, will do label encoding for this STREET feature.\n",
        "* Will use this feature for furthur process.\n",
        "\n"
      ],
      "metadata": {
        "id": "2mGjM4I0gzR2"
      }
    },
    {
      "cell_type": "markdown",
      "source": [
        "**Checking Relationship in between the MZZONE Feature and SALES_PRICE Target columns**"
      ],
      "metadata": {
        "id": "y9kUssvisGxV"
      }
    },
    {
      "cell_type": "code",
      "source": [
        "sns.histplot(df.MZZONE, linewidth=0,kde=True)\n",
        "plt.xticks(rotation=45)"
      ],
      "metadata": {
        "colab": {
          "base_uri": "https://localhost:8080/",
          "height": 304
        },
        "id": "WKxGM_ljhP3m",
        "outputId": "dc04f8ce-5ec6-4680-f37d-dc23e5b1b9f4"
      },
      "execution_count": null,
      "outputs": [
        {
          "output_type": "execute_result",
          "data": {
            "text/plain": [
              "([0, 1, 2, 3, 4, 5], <a list of 6 Text major ticklabel objects>)"
            ]
          },
          "metadata": {},
          "execution_count": 38
        },
        {
          "output_type": "display_data",
          "data": {
            "text/plain": [
              "<Figure size 432x288 with 1 Axes>"
            ],
            "image/png": "[encoded data removed]"
          },
          "metadata": {
            "needs_background": "light"
          }
        }
      ]
    },
    {
      "cell_type": "code",
      "source": [
        "mzzone_order = df.groupby('MZZONE')['SALES_PRICE'].mean().reset_index().sort_values('SALES_PRICE')['MZZONE']\n",
        "sns.barplot(x='MZZONE',y='SALES_PRICE',data=df,order = mzzone_order)"
      ],
      "metadata": {
        "id": "U_Q7UfrSg4IX",
        "colab": {
          "base_uri": "https://localhost:8080/",
          "height": 307
        },
        "outputId": "495b5e1c-ee28-46e0-aca7-965377446138"
      },
      "execution_count": null,
      "outputs": [
        {
          "output_type": "execute_result",
          "data": {
            "text/plain": [
              "<matplotlib.axes._subplots.AxesSubplot at 0x7f85bcdb69d0>"
            ]
          },
          "metadata": {},
          "execution_count": 39
        },
        {
          "output_type": "display_data",
          "data": {
            "text/plain": [
              "<Figure size 432x288 with 1 Axes>"
            ],
            "image/png": "[encoded data removed]"
          },
          "metadata": {
            "needs_background": "light"
          }
        }
      ]
    },
    {
      "cell_type": "markdown",
      "source": [
        "MZZONE with the values 'RM','RL' & 'RH' has higher sales_price than the other values"
      ],
      "metadata": {
        "id": "U4pqiCuddS5R"
      }
    },
    {
      "cell_type": "markdown",
      "source": [
        "* There is a linear relationship in between the MZZONE Feature and SALES_PRICE Target. So, will do label encoding for MZZONE feature.\n",
        "* will use this feature for furthur process.\n",
        "\n",
        "\n"
      ],
      "metadata": {
        "id": "OiYy6zp1hcnA"
      }
    },
    {
      "cell_type": "markdown",
      "source": [
        "**Checking Relationship in between the N_BEDROOM Feature and SALES_PRICE Target columns**"
      ],
      "metadata": {
        "id": "r55nCUHSsMrL"
      }
    },
    {
      "cell_type": "code",
      "source": [
        "sns.distplot(df['N_BEDROOM'])\n",
        "plt.xticks(rotation = 45)"
      ],
      "metadata": {
        "colab": {
          "base_uri": "https://localhost:8080/",
          "height": 324
        },
        "id": "hi0bp4BeiVhr",
        "outputId": "3e0d0a81-8dbb-46a8-9385-58d7b9ba3ad6"
      },
      "execution_count": null,
      "outputs": [
        {
          "output_type": "execute_result",
          "data": {
            "text/plain": [
              "(array([0. , 0.5, 1. , 1.5, 2. , 2.5, 3. , 3.5, 4. , 4.5, 5. ]),\n",
              " <a list of 11 Text major ticklabel objects>)"
            ]
          },
          "metadata": {},
          "execution_count": 40
        },
        {
          "output_type": "display_data",
          "data": {
            "text/plain": [
              "<Figure size 432x288 with 1 Axes>"
            ],
            "image/png": "[encoded data removed]"
          },
          "metadata": {
            "needs_background": "light"
          }
        }
      ]
    },
    {
      "cell_type": "code",
      "source": [
        "sns.barplot(x='N_BEDROOM',y='SALES_PRICE',data=df)"
      ],
      "metadata": {
        "colab": {
          "base_uri": "https://localhost:8080/",
          "height": 308
        },
        "id": "beIboB_FhG2W",
        "outputId": "8544e55c-f045-4c2c-bb22-c6327ce2f1da"
      },
      "execution_count": null,
      "outputs": [
        {
          "output_type": "execute_result",
          "data": {
            "text/plain": [
              "<matplotlib.axes._subplots.AxesSubplot at 0x7f85bcc25b10>"
            ]
          },
          "metadata": {},
          "execution_count": 41
        },
        {
          "output_type": "display_data",
          "data": {
            "text/plain": [
              "<Figure size 432x288 with 1 Axes>"
            ],
            "image/png": "[encoded data removed]"
          },
          "metadata": {
            "needs_background": "light"
          }
        }
      ]
    },
    {
      "cell_type": "markdown",
      "source": [
        "Number of bed rooms increasing then Sales price also increasing."
      ],
      "metadata": {
        "id": "AlTC7sRxe9yn"
      }
    },
    {
      "cell_type": "markdown",
      "source": [
        "* There is a linear relationship in between the N_BEDROOM Feature and SALES_PRICE Target.\n",
        "* will use this feature for furthur process.\n",
        "\n"
      ],
      "metadata": {
        "id": "BtloaftSiE9Y"
      }
    },
    {
      "cell_type": "markdown",
      "source": [
        "**Checking Relationship in between the N_BATHROOM Feature and SALES_PRICE Target columns**"
      ],
      "metadata": {
        "id": "twoamXWotZiL"
      }
    },
    {
      "cell_type": "code",
      "source": [
        "sns.distplot(df['N_BATHROOM'])\n",
        "plt.xticks(rotation = 45)"
      ],
      "metadata": {
        "colab": {
          "base_uri": "https://localhost:8080/",
          "height": 324
        },
        "id": "7ELBSQOSipNR",
        "outputId": "26d03944-50e8-4241-a29d-3f966c2dcb9b"
      },
      "execution_count": null,
      "outputs": [
        {
          "output_type": "execute_result",
          "data": {
            "text/plain": [
              "(array([0.6, 0.8, 1. , 1.2, 1.4, 1.6, 1.8, 2. , 2.2, 2.4]),\n",
              " <a list of 10 Text major ticklabel objects>)"
            ]
          },
          "metadata": {},
          "execution_count": 42
        },
        {
          "output_type": "display_data",
          "data": {
            "text/plain": [
              "<Figure size 432x288 with 1 Axes>"
            ],
            "image/png": "[encoded data removed]"
          },
          "metadata": {
            "needs_background": "light"
          }
        }
      ]
    },
    {
      "cell_type": "code",
      "source": [
        "sns.barplot(x='N_BATHROOM',y='SALES_PRICE',data=df)"
      ],
      "metadata": {
        "colab": {
          "base_uri": "https://localhost:8080/",
          "height": 308
        },
        "id": "UctetOLjhmVs",
        "outputId": "a7948d84-1712-407f-a71a-c681f7b1b2fc"
      },
      "execution_count": null,
      "outputs": [
        {
          "output_type": "execute_result",
          "data": {
            "text/plain": [
              "<matplotlib.axes._subplots.AxesSubplot at 0x7f85bca45bd0>"
            ]
          },
          "metadata": {},
          "execution_count": 43
        },
        {
          "output_type": "display_data",
          "data": {
            "text/plain": [
              "<Figure size 432x288 with 1 Axes>"
            ],
            "image/png": "[encoded data removed]"
          },
          "metadata": {
            "needs_background": "light"
          }
        }
      ]
    },
    {
      "cell_type": "markdown",
      "source": [
        "N_BATHROOM increases then SALES_PRICE is automatically increasing."
      ],
      "metadata": {
        "id": "Q37VH3jjgrgm"
      }
    },
    {
      "cell_type": "markdown",
      "source": [
        "* There is a linear relationship in between the N_BATHROOM Feature and SALES_PRICE Target columns.\n",
        "* will keep this feature as it is.\n",
        "\n"
      ],
      "metadata": {
        "id": "oLKTuZ7Gin0x"
      }
    },
    {
      "cell_type": "markdown",
      "source": [
        "**Checking Relationship in between the N_ROOM Feature and SALES_PRICE Target columns**"
      ],
      "metadata": {
        "id": "it99fssZtTdJ"
      }
    },
    {
      "cell_type": "code",
      "source": [
        "sns.distplot(df['N_ROOM'])\n",
        "plt.xticks(rotation = 45)"
      ],
      "metadata": {
        "colab": {
          "base_uri": "https://localhost:8080/",
          "height": 317
        },
        "id": "nx8Ua_lTi7YN",
        "outputId": "40b536cc-2ecc-42d0-a650-267bf73a0c60"
      },
      "execution_count": null,
      "outputs": [
        {
          "output_type": "execute_result",
          "data": {
            "text/plain": [
              "(array([1., 2., 3., 4., 5., 6., 7.]),\n",
              " <a list of 7 Text major ticklabel objects>)"
            ]
          },
          "metadata": {},
          "execution_count": 44
        },
        {
          "output_type": "display_data",
          "data": {
            "text/plain": [
              "<Figure size 432x288 with 1 Axes>"
            ],
            "image/png": "[encoded data removed]"
          },
          "metadata": {
            "needs_background": "light"
          }
        }
      ]
    },
    {
      "cell_type": "code",
      "source": [
        "sns.barplot(x='N_ROOM',y='SALES_PRICE',data=df)"
      ],
      "metadata": {
        "colab": {
          "base_uri": "https://localhost:8080/",
          "height": 308
        },
        "id": "L_Ixt0Zki9r9",
        "outputId": "7acc635b-8212-48e5-8605-4f7571520bc2"
      },
      "execution_count": null,
      "outputs": [
        {
          "output_type": "execute_result",
          "data": {
            "text/plain": [
              "<matplotlib.axes._subplots.AxesSubplot at 0x7f85bc90a1d0>"
            ]
          },
          "metadata": {},
          "execution_count": 45
        },
        {
          "output_type": "display_data",
          "data": {
            "text/plain": [
              "<Figure size 432x288 with 1 Axes>"
            ],
            "image/png": "[encoded data removed]"
          },
          "metadata": {
            "needs_background": "light"
          }
        }
      ]
    },
    {
      "cell_type": "markdown",
      "source": [
        "N_ROOMS increases then SALES_PRICE is automatically increasing."
      ],
      "metadata": {
        "id": "HEK8NBuwidzj"
      }
    },
    {
      "cell_type": "markdown",
      "source": [
        "* There is a relationship in between the N_ROOM Feature and SALES_PRICE Target columns.\n",
        "* will keep this feature as it is.\n",
        "\n"
      ],
      "metadata": {
        "id": "j6vTSC9ijKss"
      }
    },
    {
      "cell_type": "markdown",
      "source": [
        "***EDA for Numarical Columns***"
      ],
      "metadata": {
        "id": "H2pyB4eQXdyf"
      }
    },
    {
      "cell_type": "markdown",
      "source": [
        "**Checking Linear Relationship in between the INT_SQFT Feature and SALES_PRICE Target columns**"
      ],
      "metadata": {
        "id": "ymlYPls9tNNf"
      }
    },
    {
      "cell_type": "code",
      "source": [
        "sns.distplot(df['INT_SQFT'])"
      ],
      "metadata": {
        "colab": {
          "base_uri": "https://localhost:8080/",
          "height": 297
        },
        "id": "kSWr7H701ar5",
        "outputId": "6bd3266a-53e2-4b3e-f856-405cdda02d21"
      },
      "execution_count": null,
      "outputs": [
        {
          "output_type": "execute_result",
          "data": {
            "text/plain": [
              "<matplotlib.axes._subplots.AxesSubplot at 0x7f85bc8d46d0>"
            ]
          },
          "metadata": {},
          "execution_count": 46
        },
        {
          "output_type": "display_data",
          "data": {
            "text/plain": [
              "<Figure size 432x288 with 1 Axes>"
            ],
            "image/png": "[encoded data removed]"
          },
          "metadata": {
            "needs_background": "light"
          }
        }
      ]
    },
    {
      "cell_type": "code",
      "source": [
        "sns.regplot(x='INT_SQFT',y='SALES_PRICE',data=df,scatter_kws={'color':'orange'},line_kws={'color':'green'})"
      ],
      "metadata": {
        "colab": {
          "base_uri": "https://localhost:8080/",
          "height": 308
        },
        "id": "oNthlDkEjuD4",
        "outputId": "36d4e221-4def-4040-b9f7-3c6459b35df3"
      },
      "execution_count": null,
      "outputs": [
        {
          "output_type": "execute_result",
          "data": {
            "text/plain": [
              "<matplotlib.axes._subplots.AxesSubplot at 0x7f85bc86a490>"
            ]
          },
          "metadata": {},
          "execution_count": 47
        },
        {
          "output_type": "display_data",
          "data": {
            "text/plain": [
              "<Figure size 432x288 with 1 Axes>"
            ],
            "image/png": "[encoded data removed]"
          },
          "metadata": {
            "needs_background": "light"
          }
        }
      ]
    },
    {
      "cell_type": "markdown",
      "source": [
        "* There is a strong linear relationship in between the INT_SQFT Feature and SALES_PRICE Target columns.\n",
        "* This feature is very important to keep for furthur process.\n",
        "\n"
      ],
      "metadata": {
        "id": "RLB8uNGckDfb"
      }
    },
    {
      "cell_type": "markdown",
      "source": [
        "**Checking Relationship in between the DIST_MAINROAD Feature and SALES_PRICE Target columns**"
      ],
      "metadata": {
        "id": "HCv_IbtNtGwp"
      }
    },
    {
      "cell_type": "code",
      "source": [
        "sns.distplot(df['DIST_MAINROAD'])"
      ],
      "metadata": {
        "colab": {
          "base_uri": "https://localhost:8080/",
          "height": 298
        },
        "id": "qOBmzw13ZVt_",
        "outputId": "78c41b12-38e2-4769-c03a-3dfce7b1bebb"
      },
      "execution_count": null,
      "outputs": [
        {
          "output_type": "execute_result",
          "data": {
            "text/plain": [
              "<matplotlib.axes._subplots.AxesSubplot at 0x7f85bcd9fe90>"
            ]
          },
          "metadata": {},
          "execution_count": 48
        },
        {
          "output_type": "display_data",
          "data": {
            "text/plain": [
              "<Figure size 432x288 with 1 Axes>"
            ],
            "image/png": "[encoded data removed]"
          },
          "metadata": {
            "needs_background": "light"
          }
        }
      ]
    },
    {
      "cell_type": "code",
      "source": [
        "sns.regplot(x='DIST_MAINROAD',y='SALES_PRICE',data=df,scatter_kws={'color':'orange'},line_kws={'color':'green'})"
      ],
      "metadata": {
        "colab": {
          "base_uri": "https://localhost:8080/",
          "height": 308
        },
        "id": "-he9nrOEmRLf",
        "outputId": "c0748cd1-1283-4884-bb79-fd2fe688cc32"
      },
      "execution_count": null,
      "outputs": [
        {
          "output_type": "execute_result",
          "data": {
            "text/plain": [
              "<matplotlib.axes._subplots.AxesSubplot at 0x7f85b9f25410>"
            ]
          },
          "metadata": {},
          "execution_count": 49
        },
        {
          "output_type": "display_data",
          "data": {
            "text/plain": [
              "<Figure size 432x288 with 1 Axes>"
            ],
            "image/png": "[encoded data removed]"
          },
          "metadata": {
            "needs_background": "light"
          }
        }
      ]
    },
    {
      "cell_type": "markdown",
      "source": [
        "* There is no relationship in between the DIST_MAINROAD Feature and SALES_PRICE Target columns.\n",
        "* There is no use of keeping this feature for furthur process.\n",
        "* Better to drop this feature.\n",
        "\n",
        "\n"
      ],
      "metadata": {
        "id": "BzY_Wrexkjzt"
      }
    },
    {
      "cell_type": "markdown",
      "source": [
        "**Checking Relationship in between the QS_ROOMS Feature and SALES_PRICE Target columns**"
      ],
      "metadata": {
        "id": "wH5W6vdPtBge"
      }
    },
    {
      "cell_type": "code",
      "source": [
        "sns.distplot(df['QS_ROOMS'])"
      ],
      "metadata": {
        "colab": {
          "base_uri": "https://localhost:8080/",
          "height": 297
        },
        "id": "rGUDM9mzdLG0",
        "outputId": "3975c229-afc1-464c-b7c6-fe8bda7c5286"
      },
      "execution_count": null,
      "outputs": [
        {
          "output_type": "execute_result",
          "data": {
            "text/plain": [
              "<matplotlib.axes._subplots.AxesSubplot at 0x7f85b9e909d0>"
            ]
          },
          "metadata": {},
          "execution_count": 50
        },
        {
          "output_type": "display_data",
          "data": {
            "text/plain": [
              "<Figure size 432x288 with 1 Axes>"
            ],
            "image/png": "[encoded data removed]"
          },
          "metadata": {
            "needs_background": "light"
          }
        }
      ]
    },
    {
      "cell_type": "code",
      "source": [
        "sns.regplot(x='QS_ROOMS',y='SALES_PRICE',data=df,scatter_kws={'color':'orange'},line_kws={'color':'green'})"
      ],
      "metadata": {
        "colab": {
          "base_uri": "https://localhost:8080/",
          "height": 308
        },
        "id": "nsHjC77XnhUo",
        "outputId": "ec4da217-846c-4549-9f7e-f00c28b70b78"
      },
      "execution_count": null,
      "outputs": [
        {
          "output_type": "execute_result",
          "data": {
            "text/plain": [
              "<matplotlib.axes._subplots.AxesSubplot at 0x7f85b9dce650>"
            ]
          },
          "metadata": {},
          "execution_count": 51
        },
        {
          "output_type": "display_data",
          "data": {
            "text/plain": [
              "<Figure size 432x288 with 1 Axes>"
            ],
            "image/png": "[encoded data removed]"
          },
          "metadata": {
            "needs_background": "light"
          }
        }
      ]
    },
    {
      "cell_type": "markdown",
      "source": [
        "* There is no relationship in between the QS_ROOMS Feature and SALES_PRICE Target columns.\n",
        "* will drop this feature from the dataset.\n",
        "\n"
      ],
      "metadata": {
        "id": "itZV16eNlGYq"
      }
    },
    {
      "cell_type": "markdown",
      "source": [
        "**Checking Relationship in between the QS_BEDROOM Feature and SALES_PRICE Target columns**"
      ],
      "metadata": {
        "id": "FDPcMSWhs7qi"
      }
    },
    {
      "cell_type": "code",
      "source": [
        "sns.distplot(df['QS_BEDROOM'])"
      ],
      "metadata": {
        "colab": {
          "base_uri": "https://localhost:8080/",
          "height": 297
        },
        "id": "cCm2tCvQkmo7",
        "outputId": "3284aecf-1416-4173-e1d1-d55b990383c7"
      },
      "execution_count": null,
      "outputs": [
        {
          "output_type": "execute_result",
          "data": {
            "text/plain": [
              "<matplotlib.axes._subplots.AxesSubplot at 0x7f85b9d43150>"
            ]
          },
          "metadata": {},
          "execution_count": 52
        },
        {
          "output_type": "display_data",
          "data": {
            "text/plain": [
              "<Figure size 432x288 with 1 Axes>"
            ],
            "image/png": "[encoded data removed]"
          },
          "metadata": {
            "needs_background": "light"
          }
        }
      ]
    },
    {
      "cell_type": "code",
      "source": [
        "sns.regplot(x='QS_BEDROOM',y='SALES_PRICE',data=df,scatter_kws={'color':'orange'},line_kws={'color':'green'})"
      ],
      "metadata": {
        "colab": {
          "base_uri": "https://localhost:8080/",
          "height": 308
        },
        "id": "SbFvZ4ESoFdA",
        "outputId": "df83f4c4-058d-4601-cbcb-ce2989510782"
      },
      "execution_count": null,
      "outputs": [
        {
          "output_type": "execute_result",
          "data": {
            "text/plain": [
              "<matplotlib.axes._subplots.AxesSubplot at 0x7f85b9cedf90>"
            ]
          },
          "metadata": {},
          "execution_count": 53
        },
        {
          "output_type": "display_data",
          "data": {
            "text/plain": [
              "<Figure size 432x288 with 1 Axes>"
            ],
            "image/png": "[encoded data removed]"
          },
          "metadata": {
            "needs_background": "light"
          }
        }
      ]
    },
    {
      "cell_type": "markdown",
      "source": [
        "* There is no relationship in between the QS_BEDROOM Feature and SALES_PRICE Target columns.\n",
        "* will drop this feature from the dataset.\n"
      ],
      "metadata": {
        "id": "9kU2TusoljGj"
      }
    },
    {
      "cell_type": "markdown",
      "source": [
        "**Checking Relationship in between the QS_BATHROOM Feature and SALES_PRICE Target columns**"
      ],
      "metadata": {
        "id": "lNU7d7Fss1p8"
      }
    },
    {
      "cell_type": "code",
      "source": [
        "sns.distplot(df['QS_BATHROOM'])"
      ],
      "metadata": {
        "colab": {
          "base_uri": "https://localhost:8080/",
          "height": 297
        },
        "id": "rezNv1XIlI2I",
        "outputId": "5c522470-0736-4578-dc49-16c432472936"
      },
      "execution_count": null,
      "outputs": [
        {
          "output_type": "execute_result",
          "data": {
            "text/plain": [
              "<matplotlib.axes._subplots.AxesSubplot at 0x7f85b9c62490>"
            ]
          },
          "metadata": {},
          "execution_count": 54
        },
        {
          "output_type": "display_data",
          "data": {
            "text/plain": [
              "<Figure size 432x288 with 1 Axes>"
            ],
            "image/png": "[encoded data removed]"
          },
          "metadata": {
            "needs_background": "light"
          }
        }
      ]
    },
    {
      "cell_type": "code",
      "source": [
        "sns.regplot(x='QS_BATHROOM',y='SALES_PRICE',data=df,scatter_kws={'color':'orange'},line_kws={'color':'green'})"
      ],
      "metadata": {
        "colab": {
          "base_uri": "https://localhost:8080/",
          "height": 308
        },
        "id": "SaLZflvfpAH9",
        "outputId": "e975cad5-4d91-484e-ec64-ba7e975636c0"
      },
      "execution_count": null,
      "outputs": [
        {
          "output_type": "execute_result",
          "data": {
            "text/plain": [
              "<matplotlib.axes._subplots.AxesSubplot at 0x7f85b9b9ce50>"
            ]
          },
          "metadata": {},
          "execution_count": 55
        },
        {
          "output_type": "display_data",
          "data": {
            "text/plain": [
              "<Figure size 432x288 with 1 Axes>"
            ],
            "image/png": "[encoded data removed]"
          },
          "metadata": {
            "needs_background": "light"
          }
        }
      ]
    },
    {
      "cell_type": "markdown",
      "source": [
        "* There is no relationship in between the QS_BATHROOM Feature and SALES_PRICE Target columns.\n",
        "* will drop this feature from the dataset."
      ],
      "metadata": {
        "id": "PnXCAi4Sl3Em"
      }
    },
    {
      "cell_type": "markdown",
      "source": [
        "**Checking Relationship in between the QS_OVERALL Feature and SALES_PRICE Target columns**"
      ],
      "metadata": {
        "id": "-SWtNurRsvOg"
      }
    },
    {
      "cell_type": "code",
      "source": [
        "sns.distplot(df['QS_OVERALL'])"
      ],
      "metadata": {
        "colab": {
          "base_uri": "https://localhost:8080/",
          "height": 297
        },
        "id": "F3g0qD1kleXd",
        "outputId": "eeaa7e2c-0691-4f29-ea54-2cc855f76860"
      },
      "execution_count": null,
      "outputs": [
        {
          "output_type": "execute_result",
          "data": {
            "text/plain": [
              "<matplotlib.axes._subplots.AxesSubplot at 0x7f85b9b05990>"
            ]
          },
          "metadata": {},
          "execution_count": 56
        },
        {
          "output_type": "display_data",
          "data": {
            "text/plain": [
              "<Figure size 432x288 with 1 Axes>"
            ],
            "image/png": "[encoded data removed]"
          },
          "metadata": {
            "needs_background": "light"
          }
        }
      ]
    },
    {
      "cell_type": "code",
      "source": [
        "sns.regplot(x='QS_OVERALL',y='SALES_PRICE',data=df,scatter_kws={'color':'orange'},line_kws={'color':'green'})"
      ],
      "metadata": {
        "colab": {
          "base_uri": "https://localhost:8080/",
          "height": 308
        },
        "id": "-UJ9YplqpYuS",
        "outputId": "eaa31708-8de2-4003-b756-1dc82f7d61c2"
      },
      "execution_count": null,
      "outputs": [
        {
          "output_type": "execute_result",
          "data": {
            "text/plain": [
              "<matplotlib.axes._subplots.AxesSubplot at 0x7f85b9aee4d0>"
            ]
          },
          "metadata": {},
          "execution_count": 57
        },
        {
          "output_type": "display_data",
          "data": {
            "text/plain": [
              "<Figure size 432x288 with 1 Axes>"
            ],
            "image/png": "[encoded data removed]"
          },
          "metadata": {
            "needs_background": "light"
          }
        }
      ]
    },
    {
      "cell_type": "markdown",
      "source": [
        "* There is no relationship in between the QS_OVERALL Feature and SALES_PRICE Target columns.\n",
        "* will drop this feature from the dataset."
      ],
      "metadata": {
        "id": "Fzp8dCAqmH_W"
      }
    },
    {
      "cell_type": "markdown",
      "source": [
        "**Checking Relationship in between the AGE Feature and SALES_PRICE Target columns**"
      ],
      "metadata": {
        "id": "f1H00I9bspNt"
      }
    },
    {
      "cell_type": "code",
      "source": [
        "sns.distplot(df['AGE'])"
      ],
      "metadata": {
        "colab": {
          "base_uri": "https://localhost:8080/",
          "height": 298
        },
        "id": "E59gPJ3XmDni",
        "outputId": "baf61913-a944-424c-8366-4014ed5b392d"
      },
      "execution_count": null,
      "outputs": [
        {
          "output_type": "execute_result",
          "data": {
            "text/plain": [
              "<matplotlib.axes._subplots.AxesSubplot at 0x7f85b99d15d0>"
            ]
          },
          "metadata": {},
          "execution_count": 58
        },
        {
          "output_type": "display_data",
          "data": {
            "text/plain": [
              "<Figure size 432x288 with 1 Axes>"
            ],
            "image/png": "[encoded data removed]"
          },
          "metadata": {
            "needs_background": "light"
          }
        }
      ]
    },
    {
      "cell_type": "code",
      "source": [
        "sns.regplot(x='AGE',y='SALES_PRICE',data=df,scatter_kws={'color':'orange'},line_kws={'color':'green'})"
      ],
      "metadata": {
        "colab": {
          "base_uri": "https://localhost:8080/",
          "height": 307
        },
        "id": "yKQtTN_7p0Xj",
        "outputId": "df738378-a63c-4a9b-bbf6-ea2e71ddd99d"
      },
      "execution_count": null,
      "outputs": [
        {
          "output_type": "execute_result",
          "data": {
            "text/plain": [
              "<matplotlib.axes._subplots.AxesSubplot at 0x7f85b991b250>"
            ]
          },
          "metadata": {},
          "execution_count": 59
        },
        {
          "output_type": "display_data",
          "data": {
            "text/plain": [
              "<Figure size 432x288 with 1 Axes>"
            ],
            "image/png": "[encoded data removed]"
          },
          "metadata": {
            "needs_background": "light"
          }
        }
      ]
    },
    {
      "cell_type": "markdown",
      "source": [
        "* There is a negative relationship in between the AGE Feature and SALES_PRICE Target columns.\n",
        "* will leave this feature as it is.It will helpful for further process.\n",
        "\n"
      ],
      "metadata": {
        "id": "7SJ6jda6mVV-"
      }
    },
    {
      "cell_type": "markdown",
      "source": [
        "**Insights From the Analysis**\n",
        "* The distribution of the data in all the columns are normally distributed. In some columns only the data is very slightly skewed.\n",
        "* INT_SQFT,N_BEDROOM,N_BATHROOM,N_ROOM Features having strong relationship with SALES_PRICE Traget.These features are very important to train the model.\n",
        "* SALE_COND,DIST_MAINROAD,QS_ROOMS,QS_BATHROOM,QS_BEDROOM,QS_OVERALL has no relationship with SALES_PRICE Target. So,will drop all these features.\n",
        "\n"
      ],
      "metadata": {
        "id": "Snhc_yYmpvdp"
      }
    },
    {
      "cell_type": "code",
      "source": [
        "df.drop(['SALE_COND','QS_OVERALL','DIST_MAINROAD','QS_ROOMS','QS_BEDROOM','QS_BATHROOM','DATE_BUILD','DATE_SALE'],axis=1,inplace=True)"
      ],
      "metadata": {
        "id": "Fwz9fcRGsWK9"
      },
      "execution_count": null,
      "outputs": []
    },
    {
      "cell_type": "code",
      "source": [
        "df.head()"
      ],
      "metadata": {
        "id": "3yn8WoCRwnTD",
        "outputId": "9456be47-fc66-44d6-8ed1-4e4cbe0461a8",
        "colab": {
          "base_uri": "https://localhost:8080/",
          "height": 206
        }
      },
      "execution_count": null,
      "outputs": [
        {
          "output_type": "execute_result",
          "data": {
            "text/plain": [
              "         AREA  INT_SQFT  N_BEDROOM  N_BATHROOM  N_ROOM PARK_FACIL   BUILDTYPE  \\\n",
              "0  Karapakkam      1004          1           1       3        Yes  Commercial   \n",
              "1  Anna Nagar      1986          2           1       5         No  Commercial   \n",
              "2       Adyar       909          1           1       3        Yes  Commercial   \n",
              "3   Velachery      1855          3           2       5         No       Other   \n",
              "4  Karapakkam      1226          1           1       3        Yes       Other   \n",
              "\n",
              "  UTILITY_AVAIL  STREET MZZONE  SALES_PRICE  AGE  \n",
              "0       All Pub   Paved      A      7600000   44  \n",
              "1       All Pub  Gravel     RH     21717770   11  \n",
              "2           ELO  Gravel     RL     13159200   20  \n",
              "3        NoSewr   Paved      I      9630290   22  \n",
              "4       All Pub  Gravel      C      7406250   30  "
            ],
            "text/html": [
              "\n",
              "  <div id=\"df-8c4e54c7-7dfa-465b-b50d-b3885b57403d\">\n",
              "    <div class=\"colab-df-container\">\n",
              "      <div>\n",
              "<style scoped>\n",
              "    .dataframe tbody tr th:only-of-type {\n",
              "        vertical-align: middle;\n",
              "    }\n",
              "\n",
              "    .dataframe tbody tr th {\n",
              "        vertical-align: top;\n",
              "    }\n",
              "\n",
              "    .dataframe thead th {\n",
              "        text-align: right;\n",
              "    }\n",
              "</style>\n",
              "<table border=\"1\" class=\"dataframe\">\n",
              "  <thead>\n",
              "    <tr style=\"text-align: right;\">\n",
              "      <th></th>\n",
              "      <th>AREA</th>\n",
              "      <th>INT_SQFT</th>\n",
              "      <th>N_BEDROOM</th>\n",
              "      <th>N_BATHROOM</th>\n",
              "      <th>N_ROOM</th>\n",
              "      <th>PARK_FACIL</th>\n",
              "      <th>BUILDTYPE</th>\n",
              "      <th>UTILITY_AVAIL</th>\n",
              "      <th>STREET</th>\n",
              "      <th>MZZONE</th>\n",
              "      <th>SALES_PRICE</th>\n",
              "      <th>AGE</th>\n",
              "    </tr>\n",
              "  </thead>\n",
              "  <tbody>\n",
              "    <tr>\n",
              "      <th>0</th>\n",
              "      <td>Karapakkam</td>\n",
              "      <td>1004</td>\n",
              "      <td>1</td>\n",
              "      <td>1</td>\n",
              "      <td>3</td>\n",
              "      <td>Yes</td>\n",
              "      <td>Commercial</td>\n",
              "      <td>All Pub</td>\n",
              "      <td>Paved</td>\n",
              "      <td>A</td>\n",
              "      <td>7600000</td>\n",
              "      <td>44</td>\n",
              "    </tr>\n",
              "    <tr>\n",
              "      <th>1</th>\n",
              "      <td>Anna Nagar</td>\n",
              "      <td>1986</td>\n",
              "      <td>2</td>\n",
              "      <td>1</td>\n",
              "      <td>5</td>\n",
              "      <td>No</td>\n",
              "      <td>Commercial</td>\n",
              "      <td>All Pub</td>\n",
              "      <td>Gravel</td>\n",
              "      <td>RH</td>\n",
              "      <td>21717770</td>\n",
              "      <td>11</td>\n",
              "    </tr>\n",
              "    <tr>\n",
              "      <th>2</th>\n",
              "      <td>Adyar</td>\n",
              "      <td>909</td>\n",
              "      <td>1</td>\n",
              "      <td>1</td>\n",
              "      <td>3</td>\n",
              "      <td>Yes</td>\n",
              "      <td>Commercial</td>\n",
              "      <td>ELO</td>\n",
              "      <td>Gravel</td>\n",
              "      <td>RL</td>\n",
              "      <td>13159200</td>\n",
              "      <td>20</td>\n",
              "    </tr>\n",
              "    <tr>\n",
              "      <th>3</th>\n",
              "      <td>Velachery</td>\n",
              "      <td>1855</td>\n",
              "      <td>3</td>\n",
              "      <td>2</td>\n",
              "      <td>5</td>\n",
              "      <td>No</td>\n",
              "      <td>Other</td>\n",
              "      <td>NoSewr</td>\n",
              "      <td>Paved</td>\n",
              "      <td>I</td>\n",
              "      <td>9630290</td>\n",
              "      <td>22</td>\n",
              "    </tr>\n",
              "    <tr>\n",
              "      <th>4</th>\n",
              "      <td>Karapakkam</td>\n",
              "      <td>1226</td>\n",
              "      <td>1</td>\n",
              "      <td>1</td>\n",
              "      <td>3</td>\n",
              "      <td>Yes</td>\n",
              "      <td>Other</td>\n",
              "      <td>All Pub</td>\n",
              "      <td>Gravel</td>\n",
              "      <td>C</td>\n",
              "      <td>7406250</td>\n",
              "      <td>30</td>\n",
              "    </tr>\n",
              "  </tbody>\n",
              "</table>\n",
              "</div>\n",
              "      <button class=\"colab-df-convert\" onclick=\"convertToInteractive('df-8c4e54c7-7dfa-465b-b50d-b3885b57403d')\"\n",
              "              title=\"Convert this dataframe to an interactive table.\"\n",
              "              style=\"display:none;\">\n",
              "        \n",
              "  <svg xmlns=\"http://www.w3.org/2000/svg\" height=\"24px\"viewBox=\"0 0 24 24\"\n",
              "       width=\"24px\">\n",
              "    <path d=\"M0 0h24v24H0V0z\" fill=\"none\"/>\n",
              "    <path d=\"M18.56 5.44l.94 2.06.94-2.06 2.06-.94-2.06-.94-.94-2.06-.94 2.06-2.06.94zm-11 1L8.5 8.5l.94-2.06 2.06-.94-2.06-.94L8.5 2.5l-.94 2.06-2.06.94zm10 10l.94 2.06.94-2.06 2.06-.94-2.06-.94-.94-2.06-.94 2.06-2.06.94z\"/><path d=\"M17.41 7.96l-1.37-1.37c-.4-.4-.92-.59-1.43-.59-.52 0-1.04.2-1.43.59L10.3 9.45l-7.72 7.72c-.78.78-.78 2.05 0 2.83L4 21.41c.39.39.9.59 1.41.59.51 0 1.02-.2 1.41-.59l7.78-7.78 2.81-2.81c.8-.78.8-2.07 0-2.86zM5.41 20L4 18.59l7.72-7.72 1.47 1.35L5.41 20z\"/>\n",
              "  </svg>\n",
              "      </button>\n",
              "      \n",
              "  <style>\n",
              "    .colab-df-container {\n",
              "      display:flex;\n",
              "      flex-wrap:wrap;\n",
              "      gap: 12px;\n",
              "    }\n",
              "\n",
              "    .colab-df-convert {\n",
              "      background-color: #E8F0FE;\n",
              "      border: none;\n",
              "      border-radius: 50%;\n",
              "      cursor: pointer;\n",
              "      display: none;\n",
              "      fill: #1967D2;\n",
              "      height: 32px;\n",
              "      padding: 0 0 0 0;\n",
              "      width: 32px;\n",
              "    }\n",
              "\n",
              "    .colab-df-convert:hover {\n",
              "      background-color: #E2EBFA;\n",
              "      box-shadow: 0px 1px 2px rgba(60, 64, 67, 0.3), 0px 1px 3px 1px rgba(60, 64, 67, 0.15);\n",
              "      fill: #174EA6;\n",
              "    }\n",
              "\n",
              "    [theme=dark] .colab-df-convert {\n",
              "      background-color: #3B4455;\n",
              "      fill: #D2E3FC;\n",
              "    }\n",
              "\n",
              "    [theme=dark] .colab-df-convert:hover {\n",
              "      background-color: #434B5C;\n",
              "      box-shadow: 0px 1px 3px 1px rgba(0, 0, 0, 0.15);\n",
              "      filter: drop-shadow(0px 1px 2px rgba(0, 0, 0, 0.3));\n",
              "      fill: #FFFFFF;\n",
              "    }\n",
              "  </style>\n",
              "\n",
              "      <script>\n",
              "        const buttonEl =\n",
              "          document.querySelector('#df-8c4e54c7-7dfa-465b-b50d-b3885b57403d button.colab-df-convert');\n",
              "        buttonEl.style.display =\n",
              "          google.colab.kernel.accessAllowed ? 'block' : 'none';\n",
              "\n",
              "        async function convertToInteractive(key) {\n",
              "          const element = document.querySelector('#df-8c4e54c7-7dfa-465b-b50d-b3885b57403d');\n",
              "          const dataTable =\n",
              "            await google.colab.kernel.invokeFunction('convertToInteractive',\n",
              "                                                     [key], {});\n",
              "          if (!dataTable) return;\n",
              "\n",
              "          const docLinkHtml = 'Like what you see? Visit the ' +\n",
              "            '<a target=\"_blank\" href=https://colab.research.google.com/notebooks/data_table.ipynb>data table notebook</a>'\n",
              "            + ' to learn more about interactive tables.';\n",
              "          element.innerHTML = '';\n",
              "          dataTable['output_type'] = 'display_data';\n",
              "          await google.colab.output.renderOutput(dataTable, element);\n",
              "          const docLink = document.createElement('div');\n",
              "          docLink.innerHTML = docLinkHtml;\n",
              "          element.appendChild(docLink);\n",
              "        }\n",
              "      </script>\n",
              "    </div>\n",
              "  </div>\n",
              "  "
            ]
          },
          "metadata": {},
          "execution_count": 61
        }
      ]
    },
    {
      "cell_type": "code",
      "source": [
        "df.to_csv('cleaned.csv')"
      ],
      "metadata": {
        "id": "sL2l_MP2WJZh"
      },
      "execution_count": null,
      "outputs": []
    },
    {
      "cell_type": "markdown",
      "source": [
        "**Encoding of the data**"
      ],
      "metadata": {
        "id": "pTvVDHJ2vjWm"
      }
    },
    {
      "cell_type": "markdown",
      "source": [
        "**Label Encoding for binary class and multi class - ordinal data**"
      ],
      "metadata": {
        "id": "U5cyIDFLvn2w"
      }
    },
    {
      "cell_type": "code",
      "source": [
        "df.AREA = df.AREA.map({'Karapakkam':0, 'Adyar':1, 'Chrompet':2, 'Velachery':3, 'KK Nagar':4, 'Anna Nagar':5, 'T Nagar':6})\n",
        "df.PARK_FACIL = df.PARK_FACIL.map({'Yes':1, 'No':0})\n",
        "df.UTILITY_AVAIL = df.UTILITY_AVAIL.map({'ELO':0, 'NoSewr':1, 'All Pub':2})\n",
        "df.STREET = df.STREET.map({'No Access':0, 'Paved':1, 'Gravel':2})\n",
        "df.MZZONE = df.MZZONE.map({'A':0, 'C':1, 'I':2, 'RH':4, 'RL':5, 'RM':6})"
      ],
      "metadata": {
        "id": "70e7BSJbYmxH"
      },
      "execution_count": null,
      "outputs": []
    },
    {
      "cell_type": "markdown",
      "source": [
        "**One-Hot Encoding for Multi-Class Nominal data**"
      ],
      "metadata": {
        "id": "qRE6khiGvz1N"
      }
    },
    {
      "cell_type": "code",
      "source": [
        "df=pd.get_dummies(df,columns=[\"BUILDTYPE\"])\n",
        "df.head()\n"
      ],
      "metadata": {
        "colab": {
          "base_uri": "https://localhost:8080/",
          "height": 270
        },
        "id": "LOBFHlJhEObK",
        "outputId": "41bc8a9a-6ab7-498d-94c1-395cb37860ab"
      },
      "execution_count": null,
      "outputs": [
        {
          "output_type": "execute_result",
          "data": {
            "text/plain": [
              "   AREA  INT_SQFT  N_BEDROOM  N_BATHROOM  N_ROOM  PARK_FACIL  UTILITY_AVAIL  \\\n",
              "0     0      1004          1           1       3           1              2   \n",
              "1     5      1986          2           1       5           0              2   \n",
              "2     1       909          1           1       3           1              0   \n",
              "3     3      1855          3           2       5           0              1   \n",
              "4     0      1226          1           1       3           1              2   \n",
              "\n",
              "   STREET  MZZONE  SALES_PRICE  AGE  BUILDTYPE_Commercial  BUILDTYPE_House  \\\n",
              "0       1       0      7600000   44                     1                0   \n",
              "1       2       4     21717770   11                     1                0   \n",
              "2       2       5     13159200   20                     1                0   \n",
              "3       1       2      9630290   22                     0                0   \n",
              "4       2       1      7406250   30                     0                0   \n",
              "\n",
              "   BUILDTYPE_Other  \n",
              "0                0  \n",
              "1                0  \n",
              "2                0  \n",
              "3                1  \n",
              "4                1  "
            ],
            "text/html": [
              "\n",
              "  <div id=\"df-c468febb-d6a3-47a6-acc9-131a596b3093\">\n",
              "    <div class=\"colab-df-container\">\n",
              "      <div>\n",
              "<style scoped>\n",
              "    .dataframe tbody tr th:only-of-type {\n",
              "        vertical-align: middle;\n",
              "    }\n",
              "\n",
              "    .dataframe tbody tr th {\n",
              "        vertical-align: top;\n",
              "    }\n",
              "\n",
              "    .dataframe thead th {\n",
              "        text-align: right;\n",
              "    }\n",
              "</style>\n",
              "<table border=\"1\" class=\"dataframe\">\n",
              "  <thead>\n",
              "    <tr style=\"text-align: right;\">\n",
              "      <th></th>\n",
              "      <th>AREA</th>\n",
              "      <th>INT_SQFT</th>\n",
              "      <th>N_BEDROOM</th>\n",
              "      <th>N_BATHROOM</th>\n",
              "      <th>N_ROOM</th>\n",
              "      <th>PARK_FACIL</th>\n",
              "      <th>UTILITY_AVAIL</th>\n",
              "      <th>STREET</th>\n",
              "      <th>MZZONE</th>\n",
              "      <th>SALES_PRICE</th>\n",
              "      <th>AGE</th>\n",
              "      <th>BUILDTYPE_Commercial</th>\n",
              "      <th>BUILDTYPE_House</th>\n",
              "      <th>BUILDTYPE_Other</th>\n",
              "    </tr>\n",
              "  </thead>\n",
              "  <tbody>\n",
              "    <tr>\n",
              "      <th>0</th>\n",
              "      <td>0</td>\n",
              "      <td>1004</td>\n",
              "      <td>1</td>\n",
              "      <td>1</td>\n",
              "      <td>3</td>\n",
              "      <td>1</td>\n",
              "      <td>2</td>\n",
              "      <td>1</td>\n",
              "      <td>0</td>\n",
              "      <td>7600000</td>\n",
              "      <td>44</td>\n",
              "      <td>1</td>\n",
              "      <td>0</td>\n",
              "      <td>0</td>\n",
              "    </tr>\n",
              "    <tr>\n",
              "      <th>1</th>\n",
              "      <td>5</td>\n",
              "      <td>1986</td>\n",
              "      <td>2</td>\n",
              "      <td>1</td>\n",
              "      <td>5</td>\n",
              "      <td>0</td>\n",
              "      <td>2</td>\n",
              "      <td>2</td>\n",
              "      <td>4</td>\n",
              "      <td>21717770</td>\n",
              "      <td>11</td>\n",
              "      <td>1</td>\n",
              "      <td>0</td>\n",
              "      <td>0</td>\n",
              "    </tr>\n",
              "    <tr>\n",
              "      <th>2</th>\n",
              "      <td>1</td>\n",
              "      <td>909</td>\n",
              "      <td>1</td>\n",
              "      <td>1</td>\n",
              "      <td>3</td>\n",
              "      <td>1</td>\n",
              "      <td>0</td>\n",
              "      <td>2</td>\n",
              "      <td>5</td>\n",
              "      <td>13159200</td>\n",
              "      <td>20</td>\n",
              "      <td>1</td>\n",
              "      <td>0</td>\n",
              "      <td>0</td>\n",
              "    </tr>\n",
              "    <tr>\n",
              "      <th>3</th>\n",
              "      <td>3</td>\n",
              "      <td>1855</td>\n",
              "      <td>3</td>\n",
              "      <td>2</td>\n",
              "      <td>5</td>\n",
              "      <td>0</td>\n",
              "      <td>1</td>\n",
              "      <td>1</td>\n",
              "      <td>2</td>\n",
              "      <td>9630290</td>\n",
              "      <td>22</td>\n",
              "      <td>0</td>\n",
              "      <td>0</td>\n",
              "      <td>1</td>\n",
              "    </tr>\n",
              "    <tr>\n",
              "      <th>4</th>\n",
              "      <td>0</td>\n",
              "      <td>1226</td>\n",
              "      <td>1</td>\n",
              "      <td>1</td>\n",
              "      <td>3</td>\n",
              "      <td>1</td>\n",
              "      <td>2</td>\n",
              "      <td>2</td>\n",
              "      <td>1</td>\n",
              "      <td>7406250</td>\n",
              "      <td>30</td>\n",
              "      <td>0</td>\n",
              "      <td>0</td>\n",
              "      <td>1</td>\n",
              "    </tr>\n",
              "  </tbody>\n",
              "</table>\n",
              "</div>\n",
              "      <button class=\"colab-df-convert\" onclick=\"convertToInteractive('df-c468febb-d6a3-47a6-acc9-131a596b3093')\"\n",
              "              title=\"Convert this dataframe to an interactive table.\"\n",
              "              style=\"display:none;\">\n",
              "        \n",
              "  <svg xmlns=\"http://www.w3.org/2000/svg\" height=\"24px\"viewBox=\"0 0 24 24\"\n",
              "       width=\"24px\">\n",
              "    <path d=\"M0 0h24v24H0V0z\" fill=\"none\"/>\n",
              "    <path d=\"M18.56 5.44l.94 2.06.94-2.06 2.06-.94-2.06-.94-.94-2.06-.94 2.06-2.06.94zm-11 1L8.5 8.5l.94-2.06 2.06-.94-2.06-.94L8.5 2.5l-.94 2.06-2.06.94zm10 10l.94 2.06.94-2.06 2.06-.94-2.06-.94-.94-2.06-.94 2.06-2.06.94z\"/><path d=\"M17.41 7.96l-1.37-1.37c-.4-.4-.92-.59-1.43-.59-.52 0-1.04.2-1.43.59L10.3 9.45l-7.72 7.72c-.78.78-.78 2.05 0 2.83L4 21.41c.39.39.9.59 1.41.59.51 0 1.02-.2 1.41-.59l7.78-7.78 2.81-2.81c.8-.78.8-2.07 0-2.86zM5.41 20L4 18.59l7.72-7.72 1.47 1.35L5.41 20z\"/>\n",
              "  </svg>\n",
              "      </button>\n",
              "      \n",
              "  <style>\n",
              "    .colab-df-container {\n",
              "      display:flex;\n",
              "      flex-wrap:wrap;\n",
              "      gap: 12px;\n",
              "    }\n",
              "\n",
              "    .colab-df-convert {\n",
              "      background-color: #E8F0FE;\n",
              "      border: none;\n",
              "      border-radius: 50%;\n",
              "      cursor: pointer;\n",
              "      display: none;\n",
              "      fill: #1967D2;\n",
              "      height: 32px;\n",
              "      padding: 0 0 0 0;\n",
              "      width: 32px;\n",
              "    }\n",
              "\n",
              "    .colab-df-convert:hover {\n",
              "      background-color: #E2EBFA;\n",
              "      box-shadow: 0px 1px 2px rgba(60, 64, 67, 0.3), 0px 1px 3px 1px rgba(60, 64, 67, 0.15);\n",
              "      fill: #174EA6;\n",
              "    }\n",
              "\n",
              "    [theme=dark] .colab-df-convert {\n",
              "      background-color: #3B4455;\n",
              "      fill: #D2E3FC;\n",
              "    }\n",
              "\n",
              "    [theme=dark] .colab-df-convert:hover {\n",
              "      background-color: #434B5C;\n",
              "      box-shadow: 0px 1px 3px 1px rgba(0, 0, 0, 0.15);\n",
              "      filter: drop-shadow(0px 1px 2px rgba(0, 0, 0, 0.3));\n",
              "      fill: #FFFFFF;\n",
              "    }\n",
              "  </style>\n",
              "\n",
              "      <script>\n",
              "        const buttonEl =\n",
              "          document.querySelector('#df-c468febb-d6a3-47a6-acc9-131a596b3093 button.colab-df-convert');\n",
              "        buttonEl.style.display =\n",
              "          google.colab.kernel.accessAllowed ? 'block' : 'none';\n",
              "\n",
              "        async function convertToInteractive(key) {\n",
              "          const element = document.querySelector('#df-c468febb-d6a3-47a6-acc9-131a596b3093');\n",
              "          const dataTable =\n",
              "            await google.colab.kernel.invokeFunction('convertToInteractive',\n",
              "                                                     [key], {});\n",
              "          if (!dataTable) return;\n",
              "\n",
              "          const docLinkHtml = 'Like what you see? Visit the ' +\n",
              "            '<a target=\"_blank\" href=https://colab.research.google.com/notebooks/data_table.ipynb>data table notebook</a>'\n",
              "            + ' to learn more about interactive tables.';\n",
              "          element.innerHTML = '';\n",
              "          dataTable['output_type'] = 'display_data';\n",
              "          await google.colab.output.renderOutput(dataTable, element);\n",
              "          const docLink = document.createElement('div');\n",
              "          docLink.innerHTML = docLinkHtml;\n",
              "          element.appendChild(docLink);\n",
              "        }\n",
              "      </script>\n",
              "    </div>\n",
              "  </div>\n",
              "  "
            ]
          },
          "metadata": {},
          "execution_count": 64
        }
      ]
    },
    {
      "cell_type": "code",
      "source": [
        "df.dtypes"
      ],
      "metadata": {
        "colab": {
          "base_uri": "https://localhost:8080/"
        },
        "id": "I_081CudwNHV",
        "outputId": "4253c4c3-3325-46fe-ba73-031647cfa9e2"
      },
      "execution_count": null,
      "outputs": [
        {
          "output_type": "execute_result",
          "data": {
            "text/plain": [
              "AREA                    int64\n",
              "INT_SQFT                int64\n",
              "N_BEDROOM               int64\n",
              "N_BATHROOM              int64\n",
              "N_ROOM                  int64\n",
              "PARK_FACIL              int64\n",
              "UTILITY_AVAIL           int64\n",
              "STREET                  int64\n",
              "MZZONE                  int64\n",
              "SALES_PRICE             int64\n",
              "AGE                     int64\n",
              "BUILDTYPE_Commercial    uint8\n",
              "BUILDTYPE_House         uint8\n",
              "BUILDTYPE_Other         uint8\n",
              "dtype: object"
            ]
          },
          "metadata": {},
          "execution_count": 65
        }
      ]
    },
    {
      "cell_type": "code",
      "source": [
        "df.head()"
      ],
      "metadata": {
        "colab": {
          "base_uri": "https://localhost:8080/",
          "height": 270
        },
        "id": "Q60OnT-NwvaR",
        "outputId": "72553258-39ce-4fc5-eada-3bc63f739380"
      },
      "execution_count": null,
      "outputs": [
        {
          "output_type": "execute_result",
          "data": {
            "text/plain": [
              "   AREA  INT_SQFT  N_BEDROOM  N_BATHROOM  N_ROOM  PARK_FACIL  UTILITY_AVAIL  \\\n",
              "0     0      1004          1           1       3           1              2   \n",
              "1     5      1986          2           1       5           0              2   \n",
              "2     1       909          1           1       3           1              0   \n",
              "3     3      1855          3           2       5           0              1   \n",
              "4     0      1226          1           1       3           1              2   \n",
              "\n",
              "   STREET  MZZONE  SALES_PRICE  AGE  BUILDTYPE_Commercial  BUILDTYPE_House  \\\n",
              "0       1       0      7600000   44                     1                0   \n",
              "1       2       4     21717770   11                     1                0   \n",
              "2       2       5     13159200   20                     1                0   \n",
              "3       1       2      9630290   22                     0                0   \n",
              "4       2       1      7406250   30                     0                0   \n",
              "\n",
              "   BUILDTYPE_Other  \n",
              "0                0  \n",
              "1                0  \n",
              "2                0  \n",
              "3                1  \n",
              "4                1  "
            ],
            "text/html": [
              "\n",
              "  <div id=\"df-dd24b1df-0698-4c1c-bda0-d921a6342b12\">\n",
              "    <div class=\"colab-df-container\">\n",
              "      <div>\n",
              "<style scoped>\n",
              "    .dataframe tbody tr th:only-of-type {\n",
              "        vertical-align: middle;\n",
              "    }\n",
              "\n",
              "    .dataframe tbody tr th {\n",
              "        vertical-align: top;\n",
              "    }\n",
              "\n",
              "    .dataframe thead th {\n",
              "        text-align: right;\n",
              "    }\n",
              "</style>\n",
              "<table border=\"1\" class=\"dataframe\">\n",
              "  <thead>\n",
              "    <tr style=\"text-align: right;\">\n",
              "      <th></th>\n",
              "      <th>AREA</th>\n",
              "      <th>INT_SQFT</th>\n",
              "      <th>N_BEDROOM</th>\n",
              "      <th>N_BATHROOM</th>\n",
              "      <th>N_ROOM</th>\n",
              "      <th>PARK_FACIL</th>\n",
              "      <th>UTILITY_AVAIL</th>\n",
              "      <th>STREET</th>\n",
              "      <th>MZZONE</th>\n",
              "      <th>SALES_PRICE</th>\n",
              "      <th>AGE</th>\n",
              "      <th>BUILDTYPE_Commercial</th>\n",
              "      <th>BUILDTYPE_House</th>\n",
              "      <th>BUILDTYPE_Other</th>\n",
              "    </tr>\n",
              "  </thead>\n",
              "  <tbody>\n",
              "    <tr>\n",
              "      <th>0</th>\n",
              "      <td>0</td>\n",
              "      <td>1004</td>\n",
              "      <td>1</td>\n",
              "      <td>1</td>\n",
              "      <td>3</td>\n",
              "      <td>1</td>\n",
              "      <td>2</td>\n",
              "      <td>1</td>\n",
              "      <td>0</td>\n",
              "      <td>7600000</td>\n",
              "      <td>44</td>\n",
              "      <td>1</td>\n",
              "      <td>0</td>\n",
              "      <td>0</td>\n",
              "    </tr>\n",
              "    <tr>\n",
              "      <th>1</th>\n",
              "      <td>5</td>\n",
              "      <td>1986</td>\n",
              "      <td>2</td>\n",
              "      <td>1</td>\n",
              "      <td>5</td>\n",
              "      <td>0</td>\n",
              "      <td>2</td>\n",
              "      <td>2</td>\n",
              "      <td>4</td>\n",
              "      <td>21717770</td>\n",
              "      <td>11</td>\n",
              "      <td>1</td>\n",
              "      <td>0</td>\n",
              "      <td>0</td>\n",
              "    </tr>\n",
              "    <tr>\n",
              "      <th>2</th>\n",
              "      <td>1</td>\n",
              "      <td>909</td>\n",
              "      <td>1</td>\n",
              "      <td>1</td>\n",
              "      <td>3</td>\n",
              "      <td>1</td>\n",
              "      <td>0</td>\n",
              "      <td>2</td>\n",
              "      <td>5</td>\n",
              "      <td>13159200</td>\n",
              "      <td>20</td>\n",
              "      <td>1</td>\n",
              "      <td>0</td>\n",
              "      <td>0</td>\n",
              "    </tr>\n",
              "    <tr>\n",
              "      <th>3</th>\n",
              "      <td>3</td>\n",
              "      <td>1855</td>\n",
              "      <td>3</td>\n",
              "      <td>2</td>\n",
              "      <td>5</td>\n",
              "      <td>0</td>\n",
              "      <td>1</td>\n",
              "      <td>1</td>\n",
              "      <td>2</td>\n",
              "      <td>9630290</td>\n",
              "      <td>22</td>\n",
              "      <td>0</td>\n",
              "      <td>0</td>\n",
              "      <td>1</td>\n",
              "    </tr>\n",
              "    <tr>\n",
              "      <th>4</th>\n",
              "      <td>0</td>\n",
              "      <td>1226</td>\n",
              "      <td>1</td>\n",
              "      <td>1</td>\n",
              "      <td>3</td>\n",
              "      <td>1</td>\n",
              "      <td>2</td>\n",
              "      <td>2</td>\n",
              "      <td>1</td>\n",
              "      <td>7406250</td>\n",
              "      <td>30</td>\n",
              "      <td>0</td>\n",
              "      <td>0</td>\n",
              "      <td>1</td>\n",
              "    </tr>\n",
              "  </tbody>\n",
              "</table>\n",
              "</div>\n",
              "      <button class=\"colab-df-convert\" onclick=\"convertToInteractive('df-dd24b1df-0698-4c1c-bda0-d921a6342b12')\"\n",
              "              title=\"Convert this dataframe to an interactive table.\"\n",
              "              style=\"display:none;\">\n",
              "        \n",
              "  <svg xmlns=\"http://www.w3.org/2000/svg\" height=\"24px\"viewBox=\"0 0 24 24\"\n",
              "       width=\"24px\">\n",
              "    <path d=\"M0 0h24v24H0V0z\" fill=\"none\"/>\n",
              "    <path d=\"M18.56 5.44l.94 2.06.94-2.06 2.06-.94-2.06-.94-.94-2.06-.94 2.06-2.06.94zm-11 1L8.5 8.5l.94-2.06 2.06-.94-2.06-.94L8.5 2.5l-.94 2.06-2.06.94zm10 10l.94 2.06.94-2.06 2.06-.94-2.06-.94-.94-2.06-.94 2.06-2.06.94z\"/><path d=\"M17.41 7.96l-1.37-1.37c-.4-.4-.92-.59-1.43-.59-.52 0-1.04.2-1.43.59L10.3 9.45l-7.72 7.72c-.78.78-.78 2.05 0 2.83L4 21.41c.39.39.9.59 1.41.59.51 0 1.02-.2 1.41-.59l7.78-7.78 2.81-2.81c.8-.78.8-2.07 0-2.86zM5.41 20L4 18.59l7.72-7.72 1.47 1.35L5.41 20z\"/>\n",
              "  </svg>\n",
              "      </button>\n",
              "      \n",
              "  <style>\n",
              "    .colab-df-container {\n",
              "      display:flex;\n",
              "      flex-wrap:wrap;\n",
              "      gap: 12px;\n",
              "    }\n",
              "\n",
              "    .colab-df-convert {\n",
              "      background-color: #E8F0FE;\n",
              "      border: none;\n",
              "      border-radius: 50%;\n",
              "      cursor: pointer;\n",
              "      display: none;\n",
              "      fill: #1967D2;\n",
              "      height: 32px;\n",
              "      padding: 0 0 0 0;\n",
              "      width: 32px;\n",
              "    }\n",
              "\n",
              "    .colab-df-convert:hover {\n",
              "      background-color: #E2EBFA;\n",
              "      box-shadow: 0px 1px 2px rgba(60, 64, 67, 0.3), 0px 1px 3px 1px rgba(60, 64, 67, 0.15);\n",
              "      fill: #174EA6;\n",
              "    }\n",
              "\n",
              "    [theme=dark] .colab-df-convert {\n",
              "      background-color: #3B4455;\n",
              "      fill: #D2E3FC;\n",
              "    }\n",
              "\n",
              "    [theme=dark] .colab-df-convert:hover {\n",
              "      background-color: #434B5C;\n",
              "      box-shadow: 0px 1px 3px 1px rgba(0, 0, 0, 0.15);\n",
              "      filter: drop-shadow(0px 1px 2px rgba(0, 0, 0, 0.3));\n",
              "      fill: #FFFFFF;\n",
              "    }\n",
              "  </style>\n",
              "\n",
              "      <script>\n",
              "        const buttonEl =\n",
              "          document.querySelector('#df-dd24b1df-0698-4c1c-bda0-d921a6342b12 button.colab-df-convert');\n",
              "        buttonEl.style.display =\n",
              "          google.colab.kernel.accessAllowed ? 'block' : 'none';\n",
              "\n",
              "        async function convertToInteractive(key) {\n",
              "          const element = document.querySelector('#df-dd24b1df-0698-4c1c-bda0-d921a6342b12');\n",
              "          const dataTable =\n",
              "            await google.colab.kernel.invokeFunction('convertToInteractive',\n",
              "                                                     [key], {});\n",
              "          if (!dataTable) return;\n",
              "\n",
              "          const docLinkHtml = 'Like what you see? Visit the ' +\n",
              "            '<a target=\"_blank\" href=https://colab.research.google.com/notebooks/data_table.ipynb>data table notebook</a>'\n",
              "            + ' to learn more about interactive tables.';\n",
              "          element.innerHTML = '';\n",
              "          dataTable['output_type'] = 'display_data';\n",
              "          await google.colab.output.renderOutput(dataTable, element);\n",
              "          const docLink = document.createElement('div');\n",
              "          docLink.innerHTML = docLinkHtml;\n",
              "          element.appendChild(docLink);\n",
              "        }\n",
              "      </script>\n",
              "    </div>\n",
              "  </div>\n",
              "  "
            ]
          },
          "metadata": {},
          "execution_count": 66
        }
      ]
    },
    {
      "cell_type": "markdown",
      "source": [
        "#**Linear Regression Model**"
      ],
      "metadata": {
        "id": "Fz1o-u8PysXw"
      }
    },
    {
      "cell_type": "code",
      "source": [
        "X = df.drop('SALES_PRICE',axis=1)\n",
        "y = df['SALES_PRICE'].values"
      ],
      "metadata": {
        "id": "Hq7HDoqkY7lr"
      },
      "execution_count": null,
      "outputs": []
    },
    {
      "cell_type": "markdown",
      "source": [
        "***Splitting***"
      ],
      "metadata": {
        "id": "xwmPpGDxDfYP"
      }
    },
    {
      "cell_type": "code",
      "source": [
        "X_train, X_test, y_train, y_test = train_test_split(X, y, test_size=0.2)"
      ],
      "metadata": {
        "id": "_7oY4ucKZk4Z"
      },
      "execution_count": null,
      "outputs": []
    },
    {
      "cell_type": "markdown",
      "source": [
        "***Scaling***"
      ],
      "metadata": {
        "id": "itxIgmujDk4j"
      }
    },
    {
      "cell_type": "code",
      "source": [
        "scaler = StandardScaler() \n",
        "scaler.fit(X_train,y_train) \n",
        "X_train_scaled = scaler.transform(X_train) \n",
        "X_test_scaled = scaler.transform(X_test) "
      ],
      "metadata": {
        "id": "in5Neab_Zo-M"
      },
      "execution_count": null,
      "outputs": []
    },
    {
      "cell_type": "markdown",
      "source": [
        "***Model Fitting***"
      ],
      "metadata": {
        "id": "4dLsBwEeDqFx"
      }
    },
    {
      "cell_type": "code",
      "source": [
        "regressor = LinearRegression() \n",
        "regressor.fit(X_train_scaled, y_train) "
      ],
      "metadata": {
        "colab": {
          "base_uri": "https://localhost:8080/"
        },
        "id": "pfzDZqc6xptf",
        "outputId": "aa46f0bc-f4ed-4067-bf15-803bcf50d1bb"
      },
      "execution_count": null,
      "outputs": [
        {
          "output_type": "execute_result",
          "data": {
            "text/plain": [
              "LinearRegression()"
            ]
          },
          "metadata": {},
          "execution_count": 70
        }
      ]
    },
    {
      "cell_type": "markdown",
      "source": [
        "***Predicting Values***"
      ],
      "metadata": {
        "id": "CEsWLZcVDwlp"
      }
    },
    {
      "cell_type": "code",
      "source": [
        "y_pred = regressor.predict(X_test_scaled)\n",
        "y_pred"
      ],
      "metadata": {
        "colab": {
          "base_uri": "https://localhost:8080/"
        },
        "id": "8iRL2ALMx2Hd",
        "outputId": "764a611c-367d-421e-9304-0c204213488d"
      },
      "execution_count": null,
      "outputs": [
        {
          "output_type": "execute_result",
          "data": {
            "text/plain": [
              "array([11348205.36979437,  9623789.36979437, 14489837.36979437, ...,\n",
              "        8616173.36979437,  8624365.36979437, 13043949.36979437])"
            ]
          },
          "metadata": {},
          "execution_count": 71
        }
      ]
    },
    {
      "cell_type": "markdown",
      "source": [
        "***Evaluation Metric-R2 value***"
      ],
      "metadata": {
        "id": "xW9Y6emXD3HV"
      }
    },
    {
      "cell_type": "code",
      "source": [
        "print('R2- SCORE:', metrics.r2_score(y_test,y_pred))"
      ],
      "metadata": {
        "colab": {
          "base_uri": "https://localhost:8080/"
        },
        "id": "xqhqQovkyPLo",
        "outputId": "2a692e02-0210-41a4-dc04-5f094f4ee66c"
      },
      "execution_count": null,
      "outputs": [
        {
          "output_type": "stream",
          "name": "stdout",
          "text": [
            "R2- SCORE: 0.9198502856987485\n"
          ]
        }
      ]
    },
    {
      "cell_type": "markdown",
      "source": [
        "#**K Nearest Neighbours algorithm (KNN)**"
      ],
      "metadata": {
        "id": "RGoDgSEq1C0j"
      }
    },
    {
      "cell_type": "markdown",
      "source": [
        "**Hyper parameter Tuning,Fitting the model**"
      ],
      "metadata": {
        "id": "Kbjwga9zESfW"
      }
    },
    {
      "cell_type": "code",
      "source": [
        "for i in [1,2,3,4,5,6,7,8,9,10,20,50]:\n",
        "  knn = KNeighborsRegressor(i)\n",
        "  knn.fit(X_train_scaled,y_train) \n",
        "  print(\"K value  : \" , i, \" train score : \", knn.score(X_train_scaled,y_train) , \" score : \", np.mean(cross_val_score(knn, X_train_scaled, y_train, cv=10)))\n"
      ],
      "metadata": {
        "id": "93Y2xR3qzZa6",
        "colab": {
          "base_uri": "https://localhost:8080/"
        },
        "outputId": "008263e6-852e-4011-e711-ae8c7d4ab7da"
      },
      "execution_count": null,
      "outputs": [
        {
          "output_type": "stream",
          "name": "stdout",
          "text": [
            "K value  :  1  train score :  0.9999971887350179  score :  0.9350850649692403\n",
            "K value  :  2  train score :  0.9842083772403594  score :  0.9487316255681542\n",
            "K value  :  3  train score :  0.9778704375642737  score :  0.9526562212741926\n",
            "K value  :  4  train score :  0.9740621747861195  score :  0.9537263331706416\n",
            "K value  :  5  train score :  0.9713171237908226  score :  0.9527223949512125\n",
            "K value  :  6  train score :  0.9683791711464063  score :  0.9520982176146324\n",
            "K value  :  7  train score :  0.9658772703000379  score :  0.9516325240646177\n",
            "K value  :  8  train score :  0.9638216238850625  score :  0.9508142876940617\n",
            "K value  :  9  train score :  0.962300703549712  score :  0.950026246536083\n",
            "K value  :  10  train score :  0.9610351509211829  score :  0.9489768242535339\n",
            "K value  :  20  train score :  0.9493566505908264  score :  0.9408279747876159\n",
            "K value  :  50  train score :  0.9256213109964062  score :  0.9181838705812707\n"
          ]
        }
      ]
    },
    {
      "cell_type": "markdown",
      "source": [
        "***Scoring the model-R2 Score with best hyperparameter***"
      ],
      "metadata": {
        "id": "dTOmzUEuEcXm"
      }
    },
    {
      "cell_type": "code",
      "source": [
        "knn = KNeighborsRegressor(3)\n",
        "knn.fit(X_train_scaled,y_train)\n",
        "knn.score(X_test_scaled,y_test)"
      ],
      "metadata": {
        "id": "NqyknzRV0lWy",
        "colab": {
          "base_uri": "https://localhost:8080/"
        },
        "outputId": "5848bdb2-e88c-440d-8602-1a9eda5c52ff"
      },
      "execution_count": null,
      "outputs": [
        {
          "output_type": "execute_result",
          "data": {
            "text/plain": [
              "0.9525620309672573"
            ]
          },
          "metadata": {},
          "execution_count": 74
        }
      ]
    },
    {
      "cell_type": "markdown",
      "source": [
        "#**Decision Tree Regressor Algorithm**"
      ],
      "metadata": {
        "id": "a3JSEFRA3Ux7"
      }
    },
    {
      "cell_type": "markdown",
      "source": [
        "***Fitting the model***"
      ],
      "metadata": {
        "id": "d7S2GlwIEom6"
      }
    },
    {
      "cell_type": "code",
      "source": [
        "dt = DecisionTreeRegressor(max_depth = 4)\n",
        "dt.fit(X_train_scaled, y_train) "
      ],
      "metadata": {
        "id": "Kb4QDyJT1dho",
        "colab": {
          "base_uri": "https://localhost:8080/"
        },
        "outputId": "18d609a0-9cc9-4113-f40d-560336557bf7"
      },
      "execution_count": null,
      "outputs": [
        {
          "output_type": "execute_result",
          "data": {
            "text/plain": [
              "DecisionTreeRegressor(max_depth=4)"
            ]
          },
          "metadata": {},
          "execution_count": 75
        }
      ]
    },
    {
      "cell_type": "markdown",
      "source": [
        "***Predicted values***"
      ],
      "metadata": {
        "id": "yLBQXsb6Ey_r"
      }
    },
    {
      "cell_type": "code",
      "source": [
        "y_pred = dt.predict(X_test_scaled)\n",
        "y_pred"
      ],
      "metadata": {
        "id": "I_cObY6p11LG",
        "colab": {
          "base_uri": "https://localhost:8080/"
        },
        "outputId": "4537669c-b102-4c40-b508-3ce9a5fdad98"
      },
      "execution_count": null,
      "outputs": [
        {
          "output_type": "execute_result",
          "data": {
            "text/plain": [
              "array([10886585.45045045,  9357960.06802721, 13699935.9202454 , ...,\n",
              "        9357960.06802721,  9357960.06802721, 13786584.31092437])"
            ]
          },
          "metadata": {},
          "execution_count": 76
        }
      ]
    },
    {
      "cell_type": "markdown",
      "source": [
        "***Evaluation Metric-R2 Score***"
      ],
      "metadata": {
        "id": "gO3Jq9tTE5YQ"
      }
    },
    {
      "cell_type": "code",
      "source": [
        "print('R2- SCORE:', r2_score(y_test,y_pred))"
      ],
      "metadata": {
        "id": "SKf7RZ9P27P_",
        "colab": {
          "base_uri": "https://localhost:8080/"
        },
        "outputId": "7d0dc4b4-2a6b-4a3c-a979-47916d148502"
      },
      "execution_count": null,
      "outputs": [
        {
          "output_type": "stream",
          "name": "stdout",
          "text": [
            "R2- SCORE: 0.8808341928005369\n"
          ]
        }
      ]
    },
    {
      "cell_type": "markdown",
      "source": [
        "#**Random Forest Regressor Algorithm**"
      ],
      "metadata": {
        "id": "O5TreXI445th"
      }
    },
    {
      "cell_type": "markdown",
      "source": [
        "***Fitting the model***"
      ],
      "metadata": {
        "id": "7PEzJ721FHoM"
      }
    },
    {
      "cell_type": "code",
      "source": [
        "from sklearn.ensemble import RandomForestRegressor\n",
        "from sklearn.metrics import r2_score\n",
        "rf = RandomForestRegressor(n_estimators= 100, max_depth = 4, max_features='sqrt')\n",
        "rf.fit(X_train_scaled, y_train)\n",
        "y_pred = rf.predict(X_test_scaled)"
      ],
      "metadata": {
        "id": "jRpQ08yM3dJI"
      },
      "execution_count": null,
      "outputs": []
    },
    {
      "cell_type": "markdown",
      "source": [
        "***Predicting Values***"
      ],
      "metadata": {
        "id": "W3QBx2YdFP3N"
      }
    },
    {
      "cell_type": "code",
      "source": [
        "y_pred = rf.predict(X_test_scaled) \n",
        "y_pred"
      ],
      "metadata": {
        "id": "DJE5BSx74MAM",
        "colab": {
          "base_uri": "https://localhost:8080/"
        },
        "outputId": "f8ec2b43-4fce-4e7d-e2c0-9618373dd28c"
      },
      "execution_count": null,
      "outputs": [
        {
          "output_type": "execute_result",
          "data": {
            "text/plain": [
              "array([11130060.74287808,  9197687.63966774, 13792028.35108539, ...,\n",
              "        9479584.59162239,  9169401.9963982 , 11478111.99779533])"
            ]
          },
          "metadata": {},
          "execution_count": 79
        }
      ]
    },
    {
      "cell_type": "markdown",
      "source": [
        "***Evaluation Metric-R2 Score***"
      ],
      "metadata": {
        "id": "Ava-B-gEFWlY"
      }
    },
    {
      "cell_type": "code",
      "source": [
        "print('R2- SCORE:', r2_score(y_test,y_pred))"
      ],
      "metadata": {
        "colab": {
          "base_uri": "https://localhost:8080/"
        },
        "id": "renvzfGwlIVl",
        "outputId": "1b4f3969-fc42-4668-de91-eeef40a1cd7d"
      },
      "execution_count": null,
      "outputs": [
        {
          "output_type": "stream",
          "name": "stdout",
          "text": [
            "R2- SCORE: 0.8726025187908621\n"
          ]
        }
      ]
    },
    {
      "cell_type": "markdown",
      "source": [
        "#**XG Boost Algorithm**"
      ],
      "metadata": {
        "id": "dQorqGZB8LOX"
      }
    },
    {
      "cell_type": "markdown",
      "source": [
        "***Tuning Based on the learning rate, Fitting the model***"
      ],
      "metadata": {
        "id": "KREveebjF36L"
      }
    },
    {
      "cell_type": "code",
      "source": [
        "for lr in [0.01,0.02,0.03,0.04,0.05,0.06,0.07,0.08,0.09,0.1,0.11,0.12,0.13,0.14,0.15,0.2,0.5,0.7,1]:\n",
        "  model = xgb.XGBRegressor(learning_rate = lr, n_estimators=100, verbosity = 0)\n",
        "  model.fit(X_train_scaled,y_train)\n",
        "  model.score(X_test_scaled, y_test) # scoring the model - r2 squared\n",
        "  print(\"Learning rate : \", lr, \" Train score : \", model.score(X_train_scaled,y_train), \" Cross-Val score : \", np.mean(cross_val_score(model, X_train_scaled, y_train, cv=10)))"
      ],
      "metadata": {
        "id": "2HN4KdmM57q5",
        "colab": {
          "base_uri": "https://localhost:8080/"
        },
        "outputId": "ebfa550a-6f3b-45f9-bf0d-1e3fb54f3660"
      },
      "execution_count": null,
      "outputs": [
        {
          "output_type": "stream",
          "name": "stdout",
          "text": [
            "Learning rate :  0.01  Train score :  -0.3688269341240904  Cross-Val score :  -0.37504377623784796\n",
            "Learning rate :  0.02  Train score :  0.7484550972960551  Cross-Val score :  0.7454409540674363\n",
            "Learning rate :  0.03  Train score :  0.9255443043594358  Cross-Val score :  0.9232288134222703\n",
            "Learning rate :  0.04  Train score :  0.9626852115747985  Cross-Val score :  0.9606986474567822\n",
            "Learning rate :  0.05  Train score :  0.9743455245511672  Cross-Val score :  0.9725475303183077\n",
            "Learning rate :  0.06  Train score :  0.9808572429203263  Cross-Val score :  0.9784266363755197\n",
            "Learning rate :  0.07  Train score :  0.9849022697434554  Cross-Val score :  0.9826211112363122\n",
            "Learning rate :  0.08  Train score :  0.9874524388881246  Cross-Val score :  0.9855100325331902\n",
            "Learning rate :  0.09  Train score :  0.9892451104263139  Cross-Val score :  0.9876238032326073\n",
            "Learning rate :  0.1  Train score :  0.99036112601742  Cross-Val score :  0.989189389177775\n",
            "Learning rate :  0.11  Train score :  0.991662216888889  Cross-Val score :  0.9901643820345377\n",
            "Learning rate :  0.12  Train score :  0.9921484859404422  Cross-Val score :  0.9908913909199741\n",
            "Learning rate :  0.13  Train score :  0.9928684572286212  Cross-Val score :  0.991423454179251\n",
            "Learning rate :  0.14  Train score :  0.9932755473723066  Cross-Val score :  0.9919713446084504\n",
            "Learning rate :  0.15  Train score :  0.9938803988700242  Cross-Val score :  0.9921847325151587\n",
            "Learning rate :  0.2  Train score :  0.9940894912823086  Cross-Val score :  0.9929150428876354\n",
            "Learning rate :  0.5  Train score :  0.9951640880921229  Cross-Val score :  0.9932862512696505\n",
            "Learning rate :  0.7  Train score :  0.9956299857047436  Cross-Val score :  0.9936363765452955\n",
            "Learning rate :  1  Train score :  0.9955194096177347  Cross-Val score :  0.9927925429635538\n"
          ]
        }
      ]
    },
    {
      "cell_type": "markdown",
      "source": [
        "***Calcuating Score- R2 Score***"
      ],
      "metadata": {
        "id": "GAtpD3UIGHvm"
      }
    },
    {
      "cell_type": "code",
      "source": [
        "model = xgb.XGBRegressor(learning_rate = 0.7, n_estimators=100)\n",
        "model.fit(X_train_scaled,y_train)\n",
        "model.score(X_test_scaled, y_test)"
      ],
      "metadata": {
        "id": "AISoxOuE5Emq",
        "colab": {
          "base_uri": "https://localhost:8080/"
        },
        "outputId": "b0e9684b-b4b0-4266-f2f5-23dbd04b7fca"
      },
      "execution_count": null,
      "outputs": [
        {
          "output_type": "stream",
          "name": "stdout",
          "text": [
            "[14:26:46] WARNING: /workspace/src/objective/regression_obj.cu:152: reg:linear is now deprecated in favor of reg:squarederror.\n"
          ]
        },
        {
          "output_type": "execute_result",
          "data": {
            "text/plain": [
              "0.9937629718351875"
            ]
          },
          "metadata": {},
          "execution_count": 82
        }
      ]
    },
    {
      "cell_type": "markdown",
      "source": [
        "**Feature Importances**"
      ],
      "metadata": {
        "id": "ZLTSTNIZorSO"
      }
    },
    {
      "cell_type": "code",
      "source": [
        "from sklearn.feature_selection import RFE\n",
        "estimator = LinearRegression()\n",
        "selector = RFE(estimator, n_features_to_select=3, step=1)\n",
        "selector = selector.fit(X_train_scaled, y_train)\n",
        "list(zip(['AREA', 'INT_SQFT', 'N_BEDROOM', 'N_BATHROOM', 'N_ROOM', 'PARK_FACIL',\n",
        "       'UTILITY_AVAIL', 'STREET', 'MZZONE', 'AGE',\n",
        "       'BUILDTYPE_Commercial', 'BUILDTYPE_House', 'BUILDTYPE_Other'],selector.support_))"
      ],
      "metadata": {
        "colab": {
          "base_uri": "https://localhost:8080/"
        },
        "outputId": "5ab4e434-eefa-4faf-997f-d73bd86f2ff3",
        "id": "2TOeheOynKkv"
      },
      "execution_count": null,
      "outputs": [
        {
          "output_type": "execute_result",
          "data": {
            "text/plain": [
              "[('AREA', False),\n",
              " ('INT_SQFT', False),\n",
              " ('N_BEDROOM', False),\n",
              " ('N_BATHROOM', False),\n",
              " ('N_ROOM', False),\n",
              " ('PARK_FACIL', False),\n",
              " ('UTILITY_AVAIL', False),\n",
              " ('STREET', False),\n",
              " ('MZZONE', False),\n",
              " ('AGE', False),\n",
              " ('BUILDTYPE_Commercial', True),\n",
              " ('BUILDTYPE_House', True),\n",
              " ('BUILDTYPE_Other', True)]"
            ]
          },
          "metadata": {},
          "execution_count": 83
        }
      ]
    },
    {
      "cell_type": "code",
      "source": [
        "!pip install scikit-learn==0.24.2"
      ],
      "metadata": {
        "colab": {
          "base_uri": "https://localhost:8080/",
          "height": 401
        },
        "id": "wCSnWlRunaUJ",
        "outputId": "63adf5b2-9f4d-410f-85f6-354cf7b1b39f"
      },
      "execution_count": null,
      "outputs": [
        {
          "output_type": "stream",
          "name": "stdout",
          "text": [
            "Looking in indexes: https://pypi.org/simple, https://us-python.pkg.dev/colab-wheels/public/simple/\n",
            "Collecting scikit-learn==0.24.2\n",
            "  Downloading scikit_learn-0.24.2-cp37-cp37m-manylinux2010_x86_64.whl (22.3 MB)\n",
            "\u001b[K     |████████████████████████████████| 22.3 MB 1.6 MB/s \n",
            "\u001b[?25hRequirement already satisfied: numpy>=1.13.3 in /usr/local/lib/python3.7/dist-packages (from scikit-learn==0.24.2) (1.21.6)\n",
            "Requirement already satisfied: joblib>=0.11 in /usr/local/lib/python3.7/dist-packages (from scikit-learn==0.24.2) (1.1.0)\n",
            "Requirement already satisfied: scipy>=0.19.1 in /usr/local/lib/python3.7/dist-packages (from scikit-learn==0.24.2) (1.7.3)\n",
            "Requirement already satisfied: threadpoolctl>=2.0.0 in /usr/local/lib/python3.7/dist-packages (from scikit-learn==0.24.2) (3.1.0)\n",
            "Installing collected packages: scikit-learn\n",
            "  Attempting uninstall: scikit-learn\n",
            "    Found existing installation: scikit-learn 1.0.2\n",
            "    Uninstalling scikit-learn-1.0.2:\n",
            "      Successfully uninstalled scikit-learn-1.0.2\n",
            "\u001b[31mERROR: pip's dependency resolver does not currently take into account all the packages that are installed. This behaviour is the source of the following dependency conflicts.\n",
            "yellowbrick 1.5 requires scikit-learn>=1.0.0, but you have scikit-learn 0.24.2 which is incompatible.\u001b[0m\n",
            "Successfully installed scikit-learn-0.24.2\n"
          ]
        },
        {
          "output_type": "display_data",
          "data": {
            "application/vnd.colab-display-data+json": {
              "pip_warning": {
                "packages": [
                  "sklearn"
                ]
              }
            }
          },
          "metadata": {}
        }
      ]
    },
    {
      "cell_type": "code",
      "source": [
        "from sklearn.feature_selection import SequentialFeatureSelector\n",
        "estimator = LinearRegression()\n",
        "sfs = SequentialFeatureSelector(estimator, n_features_to_select=2)\n",
        "sfs.fit(X_train_scaled, y_train)\n",
        "print(list(zip(['AREA', 'INT_SQFT', 'N_BEDROOM', 'N_BATHROOM', 'N_ROOM', 'PARK_FACIL',\n",
        "       'UTILITY_AVAIL', 'STREET', 'MZZONE', 'AGE',\n",
        "       'BUILDTYPE_Commercial', 'BUILDTYPE_House', 'BUILDTYPE_Other'],sfs.get_support())))"
      ],
      "metadata": {
        "colab": {
          "base_uri": "https://localhost:8080/"
        },
        "id": "2VrOMyHZnmXV",
        "outputId": "565f1d78-f22f-44db-b2fe-59c9edbe89f0"
      },
      "execution_count": null,
      "outputs": [
        {
          "output_type": "stream",
          "name": "stdout",
          "text": [
            "[('AREA', True), ('INT_SQFT', False), ('N_BEDROOM', False), ('N_BATHROOM', False), ('N_ROOM', False), ('PARK_FACIL', False), ('UTILITY_AVAIL', False), ('STREET', False), ('MZZONE', False), ('AGE', False), ('BUILDTYPE_Commercial', True), ('BUILDTYPE_House', False), ('BUILDTYPE_Other', False)]\n"
          ]
        }
      ]
    },
    {
      "cell_type": "code",
      "source": [
        "feature_importance = model.feature_importances_\n",
        "sorted_idx = np.argsort(feature_importance)\n",
        "fig = plt.figure(figsize=(12, 6))\n",
        "plt.barh(range(len(sorted_idx)), feature_importance[sorted_idx], align='center')\n",
        "plt.yticks(range(len(sorted_idx)), np.array(X_test.columns)[sorted_idx])\n",
        "plt.title('Feature Importance')"
      ],
      "metadata": {
        "colab": {
          "base_uri": "https://localhost:8080/",
          "height": 407
        },
        "id": "3YWdlq5WmINo",
        "outputId": "75bd34cb-a7dd-4981-da32-93eca6966f54"
      },
      "execution_count": null,
      "outputs": [
        {
          "output_type": "execute_result",
          "data": {
            "text/plain": [
              "Text(0.5, 1.0, 'Feature Importance')"
            ]
          },
          "metadata": {},
          "execution_count": 86
        },
        {
          "output_type": "display_data",
          "data": {
            "text/plain": [
              "<Figure size 864x432 with 1 Axes>"
            ],
            "image/png": "[encoded data removed]"
          },
          "metadata": {
            "needs_background": "light"
          }
        }
      ]
    },
    {
      "cell_type": "markdown",
      "source": [
        "**The Columns AREA and BUILDTYPE_Commercial are the important features.**"
      ],
      "metadata": {
        "id": "47g_oKlcOtvp"
      }
    },
    {
      "cell_type": "markdown",
      "source": [
        "**R2 Scores of all models**"
      ],
      "metadata": {
        "id": "eaaG4nAeNEKl"
      }
    },
    {
      "cell_type": "markdown",
      "source": [
        "\n",
        "\n",
        "   **Linear Regression -**  **0.92**\n",
        "\n",
        "   **K Nearest Neighbours -**  **0.95**\n",
        "\n",
        "   **Decision Tree -**  **0.87**\n",
        "\n",
        "   **Random Forest -**   **0.87**\n",
        "\n",
        "   **XG Boost -**   **0.99**\n",
        "\n"
      ],
      "metadata": {
        "id": "V12SXY22GSdf"
      }
    },
    {
      "cell_type": "markdown",
      "source": [
        "**Conclusion:** The best Machine Learning algorithm for Chennai House Price Prediction is **XG Boost** Model."
      ],
      "metadata": {
        "id": "sdZbEdtwH3kN"
      }
    },
    {
      "cell_type": "markdown",
      "source": [
        "**Model Deployment With XGBOOST Model**"
      ],
      "metadata": {
        "id": "WQicgeWgC38m"
      }
    },
    {
      "cell_type": "code",
      "source": [
        "!pip install streamlit"
      ],
      "metadata": {
        "colab": {
          "base_uri": "https://localhost:8080/"
        },
        "id": "CvnIfDR7rAvg",
        "outputId": "038156ee-4d88-4522-80ab-b8e129876a36"
      },
      "execution_count": null,
      "outputs": [
        {
          "output_type": "stream",
          "name": "stdout",
          "text": [
            "Looking in indexes: https://pypi.org/simple, https://us-python.pkg.dev/colab-wheels/public/simple/\n",
            "Collecting streamlit\n",
            "  Downloading streamlit-1.13.0-py2.py3-none-any.whl (9.2 MB)\n",
            "\u001b[K     |████████████████████████████████| 9.2 MB 2.0 MB/s \n",
            "\u001b[?25hRequirement already satisfied: tzlocal>=1.1 in /usr/local/lib/python3.7/dist-packages (from streamlit) (1.5.1)\n",
            "Requirement already satisfied: cachetools>=4.0 in /usr/local/lib/python3.7/dist-packages (from streamlit) (4.2.4)\n",
            "Collecting pympler>=0.9\n",
            "  Downloading Pympler-1.0.1-py3-none-any.whl (164 kB)\n",
            "\u001b[K     |████████████████████████████████| 164 kB 34.4 MB/s \n",
            "\u001b[?25hRequirement already satisfied: pillow>=6.2.0 in /usr/local/lib/python3.7/dist-packages (from streamlit) (7.1.2)\n",
            "Requirement already satisfied: click>=7.0 in /usr/local/lib/python3.7/dist-packages (from streamlit) (7.1.2)\n",
            "Requirement already satisfied: pyarrow>=4.0 in /usr/local/lib/python3.7/dist-packages (from streamlit) (6.0.1)\n",
            "Requirement already satisfied: python-dateutil in /usr/local/lib/python3.7/dist-packages (from streamlit) (2.8.2)\n",
            "Collecting gitpython!=3.1.19\n",
            "  Downloading GitPython-3.1.27-py3-none-any.whl (181 kB)\n",
            "\u001b[K     |████████████████████████████████| 181 kB 49.2 MB/s \n",
            "\u001b[?25hRequirement already satisfied: requests>=2.4 in /usr/local/lib/python3.7/dist-packages (from streamlit) (2.23.0)\n",
            "Collecting validators>=0.2\n",
            "  Downloading validators-0.20.0.tar.gz (30 kB)\n",
            "Requirement already satisfied: pandas>=0.21.0 in /usr/local/lib/python3.7/dist-packages (from streamlit) (1.3.5)\n",
            "Collecting rich>=10.11.0\n",
            "  Downloading rich-12.5.1-py3-none-any.whl (235 kB)\n",
            "\u001b[K     |████████████████████████████████| 235 kB 46.7 MB/s \n",
            "\u001b[?25hRequirement already satisfied: altair>=3.2.0 in /usr/local/lib/python3.7/dist-packages (from streamlit) (4.2.0)\n",
            "Requirement already satisfied: typing-extensions>=3.10.0.0 in /usr/local/lib/python3.7/dist-packages (from streamlit) (4.1.1)\n",
            "Requirement already satisfied: packaging>=14.1 in /usr/local/lib/python3.7/dist-packages (from streamlit) (21.3)\n",
            "Collecting semver\n",
            "  Downloading semver-2.13.0-py2.py3-none-any.whl (12 kB)\n",
            "Collecting blinker>=1.0.0\n",
            "  Downloading blinker-1.5-py2.py3-none-any.whl (12 kB)\n",
            "Collecting watchdog\n",
            "  Downloading watchdog-2.1.9-py3-none-manylinux2014_x86_64.whl (78 kB)\n",
            "\u001b[K     |████████████████████████████████| 78 kB 7.1 MB/s \n",
            "\u001b[?25hRequirement already satisfied: numpy in /usr/local/lib/python3.7/dist-packages (from streamlit) (1.21.6)\n",
            "Collecting pydeck>=0.1.dev5\n",
            "  Downloading pydeck-0.8.0b3-py2.py3-none-any.whl (4.7 MB)\n",
            "\u001b[K     |████████████████████████████████| 4.7 MB 33.7 MB/s \n",
            "\u001b[?25hRequirement already satisfied: tornado>=5.0 in /usr/local/lib/python3.7/dist-packages (from streamlit) (5.1.1)\n",
            "Requirement already satisfied: importlib-metadata>=1.4 in /usr/local/lib/python3.7/dist-packages (from streamlit) (4.12.0)\n",
            "Requirement already satisfied: protobuf!=3.20.2,<4,>=3.12 in /usr/local/lib/python3.7/dist-packages (from streamlit) (3.17.3)\n",
            "Requirement already satisfied: toml in /usr/local/lib/python3.7/dist-packages (from streamlit) (0.10.2)\n",
            "Requirement already satisfied: entrypoints in /usr/local/lib/python3.7/dist-packages (from altair>=3.2.0->streamlit) (0.4)\n",
            "Requirement already satisfied: jinja2 in /usr/local/lib/python3.7/dist-packages (from altair>=3.2.0->streamlit) (2.11.3)\n",
            "Requirement already satisfied: toolz in /usr/local/lib/python3.7/dist-packages (from altair>=3.2.0->streamlit) (0.12.0)\n",
            "Requirement already satisfied: jsonschema>=3.0 in /usr/local/lib/python3.7/dist-packages (from altair>=3.2.0->streamlit) (4.3.3)\n",
            "Collecting gitdb<5,>=4.0.1\n",
            "  Downloading gitdb-4.0.9-py3-none-any.whl (63 kB)\n",
            "\u001b[K     |████████████████████████████████| 63 kB 1.7 MB/s \n",
            "\u001b[?25hCollecting smmap<6,>=3.0.1\n",
            "  Downloading smmap-5.0.0-py3-none-any.whl (24 kB)\n",
            "Requirement already satisfied: zipp>=0.5 in /usr/local/lib/python3.7/dist-packages (from importlib-metadata>=1.4->streamlit) (3.8.1)\n",
            "Requirement already satisfied: importlib-resources>=1.4.0 in /usr/local/lib/python3.7/dist-packages (from jsonschema>=3.0->altair>=3.2.0->streamlit) (5.9.0)\n",
            "Requirement already satisfied: pyrsistent!=0.17.0,!=0.17.1,!=0.17.2,>=0.14.0 in /usr/local/lib/python3.7/dist-packages (from jsonschema>=3.0->altair>=3.2.0->streamlit) (0.18.1)\n",
            "Requirement already satisfied: attrs>=17.4.0 in /usr/local/lib/python3.7/dist-packages (from jsonschema>=3.0->altair>=3.2.0->streamlit) (22.1.0)\n",
            "Requirement already satisfied: pyparsing!=3.0.5,>=2.0.2 in /usr/local/lib/python3.7/dist-packages (from packaging>=14.1->streamlit) (3.0.9)\n",
            "Requirement already satisfied: pytz>=2017.3 in /usr/local/lib/python3.7/dist-packages (from pandas>=0.21.0->streamlit) (2022.2.1)\n",
            "Requirement already satisfied: six>=1.9 in /usr/local/lib/python3.7/dist-packages (from protobuf!=3.20.2,<4,>=3.12->streamlit) (1.15.0)\n",
            "Requirement already satisfied: MarkupSafe>=0.23 in /usr/local/lib/python3.7/dist-packages (from jinja2->altair>=3.2.0->streamlit) (2.0.1)\n",
            "Requirement already satisfied: certifi>=2017.4.17 in /usr/local/lib/python3.7/dist-packages (from requests>=2.4->streamlit) (2022.6.15)\n",
            "Requirement already satisfied: urllib3!=1.25.0,!=1.25.1,<1.26,>=1.21.1 in /usr/local/lib/python3.7/dist-packages (from requests>=2.4->streamlit) (1.24.3)\n",
            "Requirement already satisfied: chardet<4,>=3.0.2 in /usr/local/lib/python3.7/dist-packages (from requests>=2.4->streamlit) (3.0.4)\n",
            "Requirement already satisfied: idna<3,>=2.5 in /usr/local/lib/python3.7/dist-packages (from requests>=2.4->streamlit) (2.10)\n",
            "Requirement already satisfied: pygments<3.0.0,>=2.6.0 in /usr/local/lib/python3.7/dist-packages (from rich>=10.11.0->streamlit) (2.6.1)\n",
            "Collecting commonmark<0.10.0,>=0.9.0\n",
            "  Downloading commonmark-0.9.1-py2.py3-none-any.whl (51 kB)\n",
            "\u001b[K     |████████████████████████████████| 51 kB 2.2 MB/s \n",
            "\u001b[?25hRequirement already satisfied: decorator>=3.4.0 in /usr/local/lib/python3.7/dist-packages (from validators>=0.2->streamlit) (4.4.2)\n",
            "Building wheels for collected packages: validators\n",
            "  Building wheel for validators (setup.py) ... \u001b[?25l\u001b[?25hdone\n",
            "  Created wheel for validators: filename=validators-0.20.0-py3-none-any.whl size=19582 sha256=68829e9028894ceb580173c8259c6fdc3c7095b107af2783634c7a5d81d693e5\n",
            "  Stored in directory: /root/.cache/pip/wheels/5f/55/ab/36a76989f7f88d9ca7b1f68da6d94252bb6a8d6ad4f18e04e9\n",
            "Successfully built validators\n",
            "Installing collected packages: smmap, gitdb, commonmark, watchdog, validators, semver, rich, pympler, pydeck, gitpython, blinker, streamlit\n",
            "Successfully installed blinker-1.5 commonmark-0.9.1 gitdb-4.0.9 gitpython-3.1.27 pydeck-0.8.0b3 pympler-1.0.1 rich-12.5.1 semver-2.13.0 smmap-5.0.0 streamlit-1.13.0 validators-0.20.0 watchdog-2.1.9\n"
          ]
        }
      ]
    },
    {
      "cell_type": "code",
      "source": [
        "%%writefile app.py\n",
        "import streamlit as st\n",
        "import pandas as pd\n",
        "import numpy as np\n",
        "from sklearn.model_selection import train_test_split\n",
        "from sklearn.preprocessing import StandardScaler\n",
        "st.title(\"CHENNAI HOUSE PRICE PREDICTION\")\n",
        "import pandas as pd\n",
        "df=pd.read_csv(\"/content/cleaned.csv\")\n",
        "#ENCODE\n",
        "df[\"AREA\"] = df[\"AREA\"].map({'KARAPAKKAM':0, 'ANNA NAGAR':5, 'ADYAR':1, 'CHROMPET':2, 'KK NAGAR':4,'T NAGAR':6, 'VELACHERY':3})\n",
        "df[\"PARK_FACIL\"] = df[\"PARK_FACIL\"].map({'No':0, 'Yes':1})\n",
        "df[\"UTILITY_AVAIL\"] = df[\"UTILITY_AVAIL\"].map({'AllPub':2, 'ELO':0,'NoSeWa':1})           \n",
        "df[\"MZZONE\"] = df[\"MZZONE\"].map({'A':0, 'C':1, 'I':2, 'RH':3, 'RL':4, 'RM':5})   \n",
        "df[\"STREET\"] = df[\"STREET\"].map({'No Access':0, 'Paved':1, 'Gravel':2})\n",
        "df= pd.get_dummies(df,columns = [\"BUILDTYPE\"])\n",
        "#SPLIT\n",
        "train=list(df.columns)\n",
        "train.remove('SALES_PRICE')\n",
        "train.remove(train[0])\n",
        "#Split my data\n",
        "x_train, x_test, y_train, y_test = train_test_split(df[train].values,\n",
        "                                                    df['SALES_PRICE'].values,\n",
        "                                                    test_size=0.25,\n",
        "                                                    random_state=1,\n",
        "                                                    shuffle=True,\n",
        "                                                    stratify=None)\n",
        "#SCALE\n",
        "std = StandardScaler()\n",
        "x_train = std.fit_transform(x_train)\n",
        "x_test = std.transform(x_test)\n",
        "# BEST MODEL\n",
        "import xgboost as xgb\n",
        "import warnings\n",
        "warnings.filterwarnings(\"ignore\")\n",
        "model = xgb.XGBRegressor(learning_rate = 0.8, n_estimators=100)\n",
        "model.fit(x_train,y_train)\n",
        "##STREMLIT CODE\n",
        "q1,q2=st.columns(2)\n",
        "q1.video(\"https://www.youtube.com/watch?v=5IvQ3fYKnfM\")\n",
        "q2.image(\"data:image/png;base64,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\")\n",
        "f1=st.selectbox(\"SELECT AREA\",['KARAPAKKAM','ANNA NAGAR', 'ADYAR', 'CHROMPET', 'KK NAGAR', 'T NAGAR','VELACHERY'])\n",
        "f11q={'KARAPAKKAM': 0, 'ANNA NAGAR': 5, 'ADYAR': 1, 'CHROMPET': 2, 'KK NAGAR': 4, 'T NAGAR': 6, 'VELACHERY': 3}\n",
        "q = pd.DataFrame(\n",
        "    [[12.9191,80.2300],\n",
        "     [13.0012,80.2565],\n",
        "     [12.9516,80.1462],\n",
        "     [13.0410,80.1994],\n",
        "     [13.0418,80.2341],\n",
        "     [13.0850,80.2101],\n",
        "     [12.9815, 80.2180]],\n",
        "    columns=['lat', 'lon'])\n",
        "st.map(q.loc[[f11q.get(f1)]])\n",
        "f2=st.number_input(\"ENTER AREA IN SQFT\")\n",
        "c1,c2=st.columns(2)\n",
        "f3=c1.radio(\"NO OF BEDROOM\",[1,2,3,4])\n",
        "f4=c2.radio(\"NO OF BATHROOM\",[1,2])\n",
        "f5=st.slider(\"NO OF ROOM\",min_value=1,max_value=6,step=1)\n",
        "f6=st.radio(\"PARKING FACILTY AVAILABILITY\",[\"YES\",\"NO\"])\n",
        "f7=st.date_input(\"SELECT DATE OF BUILD\")\n",
        "f8=st.selectbox(\"UTILITY AVAILABILITY\",['AllPub', 'ELO', 'NoSeWa'])\n",
        "f9=st.selectbox(\"MZZONE\",['A', 'C', 'I', 'RH', 'RL', 'RM'])\n",
        "f10=st.selectbox(\"STREET\",['No Access', 'Paved', 'Gravel'])\n",
        "f11=st.selectbox(\"BUILDING TYPE\",['Commercial', 'HOUSE', 'OTHERS'])\n",
        "f81={'AllPub': 2, 'ELO': 0, 'NoSeWa': 1}\n",
        "f91={'A': 0, 'C': 1, 'I': 2, 'RH': 3, 'RL': 4, 'RM': 5}\n",
        "f101={'No Access':0,'Paved':1, 'Gravel':2}\n",
        "f111={'Commercial':2, 'House':0, 'Others':1}\n",
        "st.checkbox(\"I ACCEPT TERMS AND CONDITIONS \")\n",
        "if st.button(\"CLICK HERE TO PREDICT THE REAL PRICE VALUE\"):\n",
        "    st.header(*model.predict([[f11q.get(f1),\n",
        "                           f2,\n",
        "                           f3,\n",
        "                           f4,\n",
        "                           f5,\n",
        "                           0 if f6==\"NO\" else 1,\n",
        "                           (pd.Timestamp.today().date()-f7).days,\n",
        "                           f81.get(f8),\n",
        "                           f91.get(f9),\n",
        "                           f101.get(f10),\n",
        "                           1 if f111.get(f11)==2 else 0,\n",
        "                           1 if f111.get(f11)==0 else 0,\n",
        "                           1 if f111.get(f11)==1 else 0]]))\n",
        "    st.write(\"THE PREDICTED PRICE OF THE XGBOOST MODEL.... \")\n",
        "    st.markdown(':moon:')\n",
        "    st.balloons()                                                       "
      ],
      "metadata": {
        "colab": {
          "base_uri": "https://localhost:8080/"
        },
        "id": "-bAVvPd4_7Bu",
        "outputId": "1c2d3574-ae83-4d7b-b017-f2b9e5fccaa3"
      },
      "execution_count": null,
      "outputs": [
        {
          "output_type": "stream",
          "name": "stdout",
          "text": [
            "Overwriting app.py\n"
          ]
        }
      ]
    },
    {
      "cell_type": "code",
      "source": [
        "!streamlit run app.py & npx localtunnel --port 8501"
      ],
      "metadata": {
        "colab": {
          "base_uri": "https://localhost:8080/"
        },
        "id": "LxclexJ-xEpw",
        "outputId": "6bfcfbee-d929-4cce-d0c9-165dd9bb8213"
      },
      "execution_count": null,
      "outputs": [
        {
          "output_type": "stream",
          "name": "stdout",
          "text": [
            "2022-10-02 14:48:40.654 INFO    numexpr.utils: NumExpr defaulting to 2 threads.\n",
            "[..................] \\ fetchMetadata: sill resolveWithNewModule openurl@1.1.1 c\u001b[0m\u001b[K\n",
            "Collecting usage statistics. To deactivate, set browser.gatherUsageStats to False.\n",
            "\u001b[0m\n",
            "\u001b[0m\n",
            "\u001b[34m\u001b[1m  You can now view your Streamlit app in your browser.\u001b[0m\n",
            "\u001b[0m\n",
            "\u001b[34m  Network URL: \u001b[0m\u001b[1mhttp://172.28.0.2:8501\u001b[0m\n",
            "\u001b[34m  External URL: \u001b[0m\u001b[1mhttp://35.229.219.227:8501\u001b[0m\n",
            "\u001b[0m\n",
            "\u001b[K\u001b[?25hnpx: installed 22 in 3.385s\n",
            "your url is: https://crazy-eggs-change-35-229-219-227.loca.lt\n",
            "/usr/local/lib/python3.7/dist-packages/sklearn/utils/extmath.py:847: RuntimeWarning: invalid value encountered in true_divide\n",
            "  updated_mean = (last_sum + new_sum) / updated_sample_count\n",
            "/usr/local/lib/python3.7/dist-packages/sklearn/utils/extmath.py:689: RuntimeWarning: Degrees of freedom <= 0 for slice.\n",
            "  result = op(x, *args, **kwargs)\n",
            "[14:48:59] WARNING: /workspace/src/objective/regression_obj.cu:152: reg:linear is now deprecated in favor of reg:squarederror.\n",
            "[14:49:08] WARNING: /workspace/src/objective/regression_obj.cu:152: reg:linear is now deprecated in favor of reg:squarederror.\n",
            "[14:49:13] WARNING: /workspace/src/objective/regression_obj.cu:152: reg:linear is now deprecated in favor of reg:squarederror.\n",
            "[14:49:15] WARNING: /workspace/src/objective/regression_obj.cu:152: reg:linear is now deprecated in favor of reg:squarederror.\n",
            "[14:49:16] WARNING: /workspace/src/objective/regression_obj.cu:152: reg:linear is now deprecated in favor of reg:squarederror.\n",
            "[14:49:17] WARNING: /workspace/src/objective/regression_obj.cu:152: reg:linear is now deprecated in favor of reg:squarederror.\n",
            "[14:49:19] WARNING: /workspace/src/objective/regression_obj.cu:152: reg:linear is now deprecated in favor of reg:squarederror.\n",
            "[14:49:20] WARNING: /workspace/src/objective/regression_obj.cu:152: reg:linear is now deprecated in favor of reg:squarederror.\n",
            "[14:49:22] WARNING: /workspace/src/objective/regression_obj.cu:152: reg:linear is now deprecated in favor of reg:squarederror.\n",
            "[14:49:30] WARNING: /workspace/src/objective/regression_obj.cu:152: reg:linear is now deprecated in favor of reg:squarederror.\n",
            "[14:49:34] WARNING: /workspace/src/objective/regression_obj.cu:152: reg:linear is now deprecated in favor of reg:squarederror.\n",
            "[14:49:36] WARNING: /workspace/src/objective/regression_obj.cu:152: reg:linear is now deprecated in favor of reg:squarederror.\n",
            "[14:49:37] WARNING: /workspace/src/objective/regression_obj.cu:152: reg:linear is now deprecated in favor of reg:squarederror.\n",
            "\u001b[34m  Stopping...\u001b[0m\n",
            "^C\n"
          ]
        }
      ]
    },
    {
      "cell_type": "code",
      "source": [],
      "metadata": {
        "id": "d-dWQcrUxQzK"
      },
      "execution_count": null,
      "outputs": []
    }
  ]
}